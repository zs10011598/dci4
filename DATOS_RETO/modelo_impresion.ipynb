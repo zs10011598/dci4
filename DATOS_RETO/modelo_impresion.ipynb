{
 "cells": [
  {
   "cell_type": "code",
   "execution_count": 1,
   "metadata": {},
   "outputs": [],
   "source": [
    "import pandas as pd"
   ]
  },
  {
   "cell_type": "code",
   "execution_count": 2,
   "metadata": {},
   "outputs": [
    {
     "name": "stdout",
     "output_type": "stream",
     "text": [
      "<class 'pandas.core.frame.DataFrame'>\n",
      "RangeIndex: 6372 entries, 0 to 6371\n",
      "Data columns (total 25 columns):\n",
      "Unnamed: 0           6372 non-null int64\n",
      "SEMANA               6372 non-null float64\n",
      "FECHA                6372 non-null object\n",
      "TURNO                6367 non-null float64\n",
      "IMPRESORA            6352 non-null float64\n",
      "OPERADOR             6372 non-null object\n",
      "N° DE PEDIDO         6366 non-null object\n",
      "CLAVE SAP            2595 non-null object\n",
      "NOMBRE DE PEDIDO     6372 non-null object\n",
      "TIPO DE PRODUCTO     6372 non-null object\n",
      "ANCHO DE PELICULA    6356 non-null object\n",
      "TINTAS               52 non-null object\n",
      "FOLIO DEL ROLLO      6092 non-null object\n",
      "HORA INICIO          6258 non-null object\n",
      "HORA FINAL           6246 non-null object\n",
      "PESO DE ROLLO        6069 non-null object\n",
      "RECUPERADO           454 non-null object\n",
      "% DE RECUP           3 non-null object\n",
      "HORAS DE TRABAJO     6371 non-null object\n",
      "DISCO                0 non-null float64\n",
      "year                 6372 non-null int64\n",
      "month                6372 non-null int64\n",
      "day                  6372 non-null int64\n",
      "week                 6372 non-null int64\n",
      "date                 6372 non-null object\n",
      "dtypes: float64(4), int64(5), object(16)\n",
      "memory usage: 1.2+ MB\n"
     ]
    }
   ],
   "source": [
    "df  = pd.read_csv('./datos_limpios/cln_impresion.csv')\n",
    "\n",
    "df.info()"
   ]
  },
  {
   "cell_type": "code",
   "execution_count": null,
   "metadata": {},
   "outputs": [],
   "source": [
    "df = df[['IMPRESORA', 'OPERADOR', 'N° DE PEDIDO', 'TIPO DE PRODUCTO', 'ANCHO DE PELICULA', 'TINTAS', 'PESO DE ROLLO']]\n",
    "\n"
   ]
  }
 ],
 "metadata": {
  "kernelspec": {
   "display_name": "Python 3",
   "language": "python",
   "name": "python3"
  },
  "language_info": {
   "codemirror_mode": {
    "name": "ipython",
    "version": 3
   },
   "file_extension": ".py",
   "mimetype": "text/x-python",
   "name": "python",
   "nbconvert_exporter": "python",
   "pygments_lexer": "ipython3",
   "version": "3.6.7"
  }
 },
 "nbformat": 4,
 "nbformat_minor": 2
}
