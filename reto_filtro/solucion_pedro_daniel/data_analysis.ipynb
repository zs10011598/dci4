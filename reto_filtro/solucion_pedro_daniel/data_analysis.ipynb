{
 "cells": [
  {
   "cell_type": "code",
   "execution_count": 66,
   "metadata": {},
   "outputs": [],
   "source": [
    "import pandas as pd\n",
    "import numpy  as np\n",
    "from sklearn                import utils\n",
    "from sklearn                import preprocessing\n",
    "from sklearn.pipeline       import Pipeline\n",
    "from sklearn.linear_model   import LinearRegression\n",
    "from sklearn.preprocessing  import StandardScaler\n",
    "from sklearn.metrics        import mean_squared_error\n",
    "from sklearn.tree           import DecisionTreeRegressor\n",
    "from sklearn.neural_network import MLPRegressor"
   ]
  },
  {
   "cell_type": "markdown",
   "metadata": {},
   "source": [
    "### Extraccion"
   ]
  },
  {
   "cell_type": "code",
   "execution_count": 46,
   "metadata": {},
   "outputs": [],
   "source": [
    "df_trai = pd.read_csv('../instrucciones/datosEntrenamiento.csv', names=['A', 'B', 'C', 'D', 'val'])\n",
    "df_test = pd.read_csv('../instrucciones/datosPrueba.csv',        names=['A', 'B', 'C', 'D', 'val'])\n",
    "df_vali = pd.read_csv('../instrucciones/datosValidacion.csv',    names=['A', 'B', 'C', 'D', 'val'])"
   ]
  },
  {
   "cell_type": "markdown",
   "metadata": {},
   "source": [
    "### Exploracion"
   ]
  },
  {
   "cell_type": "code",
   "execution_count": 69,
   "metadata": {},
   "outputs": [
    {
     "data": {
      "text/html": [
       "<div>\n",
       "<style scoped>\n",
       "    .dataframe tbody tr th:only-of-type {\n",
       "        vertical-align: middle;\n",
       "    }\n",
       "\n",
       "    .dataframe tbody tr th {\n",
       "        vertical-align: top;\n",
       "    }\n",
       "\n",
       "    .dataframe thead th {\n",
       "        text-align: right;\n",
       "    }\n",
       "</style>\n",
       "<table border=\"1\" class=\"dataframe\">\n",
       "  <thead>\n",
       "    <tr style=\"text-align: right;\">\n",
       "      <th></th>\n",
       "      <th>A</th>\n",
       "      <th>B</th>\n",
       "      <th>C</th>\n",
       "      <th>D</th>\n",
       "      <th>val</th>\n",
       "    </tr>\n",
       "  </thead>\n",
       "  <tbody>\n",
       "    <tr>\n",
       "      <td>A</td>\n",
       "      <td>1.000000</td>\n",
       "      <td>0.843183</td>\n",
       "      <td>-0.503403</td>\n",
       "      <td>-0.543673</td>\n",
       "      <td>-0.948731</td>\n",
       "    </tr>\n",
       "    <tr>\n",
       "      <td>B</td>\n",
       "      <td>0.843183</td>\n",
       "      <td>1.000000</td>\n",
       "      <td>-0.410853</td>\n",
       "      <td>-0.309859</td>\n",
       "      <td>-0.869185</td>\n",
       "    </tr>\n",
       "    <tr>\n",
       "      <td>C</td>\n",
       "      <td>-0.503403</td>\n",
       "      <td>-0.410853</td>\n",
       "      <td>1.000000</td>\n",
       "      <td>0.096809</td>\n",
       "      <td>0.517436</td>\n",
       "    </tr>\n",
       "    <tr>\n",
       "      <td>D</td>\n",
       "      <td>-0.543673</td>\n",
       "      <td>-0.309859</td>\n",
       "      <td>0.096809</td>\n",
       "      <td>1.000000</td>\n",
       "      <td>0.389565</td>\n",
       "    </tr>\n",
       "    <tr>\n",
       "      <td>val</td>\n",
       "      <td>-0.948731</td>\n",
       "      <td>-0.869185</td>\n",
       "      <td>0.517436</td>\n",
       "      <td>0.389565</td>\n",
       "      <td>1.000000</td>\n",
       "    </tr>\n",
       "  </tbody>\n",
       "</table>\n",
       "</div>"
      ],
      "text/plain": [
       "            A         B         C         D       val\n",
       "A    1.000000  0.843183 -0.503403 -0.543673 -0.948731\n",
       "B    0.843183  1.000000 -0.410853 -0.309859 -0.869185\n",
       "C   -0.503403 -0.410853  1.000000  0.096809  0.517436\n",
       "D   -0.543673 -0.309859  0.096809  1.000000  0.389565\n",
       "val -0.948731 -0.869185  0.517436  0.389565  1.000000"
      ]
     },
     "execution_count": 69,
     "metadata": {},
     "output_type": "execute_result"
    }
   ],
   "source": [
    "df_trai.corr()"
   ]
  },
  {
   "cell_type": "code",
   "execution_count": 27,
   "metadata": {},
   "outputs": [
    {
     "data": {
      "text/plain": [
       "A      float64\n",
       "B      float64\n",
       "C      float64\n",
       "D      float64\n",
       "val    float64\n",
       "dtype: object"
      ]
     },
     "execution_count": 27,
     "metadata": {},
     "output_type": "execute_result"
    }
   ],
   "source": [
    "df_trai.dtypes"
   ]
  },
  {
   "cell_type": "code",
   "execution_count": 50,
   "metadata": {},
   "outputs": [],
   "source": [
    "X_trai = df_trai.loc[:, ['A', 'B', 'C', 'D']].values\n",
    "Y_trai = df_trai.loc[:, 'val'].values"
   ]
  },
  {
   "cell_type": "code",
   "execution_count": 47,
   "metadata": {},
   "outputs": [],
   "source": [
    "X_test = df_test.loc[:, ['A', 'B', 'C', 'D']].values\n",
    "Y_test = df_test.loc[:, 'val'].values"
   ]
  },
  {
   "cell_type": "code",
   "execution_count": 48,
   "metadata": {},
   "outputs": [],
   "source": [
    "X_vali = df_test.loc[:, ['A', 'B', 'C', 'D']].values"
   ]
  },
  {
   "cell_type": "markdown",
   "metadata": {},
   "source": [
    "### Preprocesamiento, entrenamiento y prediccion (Regresion Lineal)"
   ]
  },
  {
   "cell_type": "code",
   "execution_count": 61,
   "metadata": {},
   "outputs": [
    {
     "data": {
      "text/plain": [
       "20.93860578420929"
      ]
     },
     "execution_count": 61,
     "metadata": {},
     "output_type": "execute_result"
    }
   ],
   "source": [
    "scaler = StandardScaler()\n",
    "clf = LinearRegression()\n",
    "\n",
    "pipe = Pipeline([\n",
    "    ('scaler', scaler),\n",
    "    ('regressor', clf)\n",
    "])\n",
    "\n",
    "pipe.fit(X_trai, Y_trai)\n",
    "Y_pred = pipe.predict(X_test)\n",
    "\n",
    "mean_squared_error(Y_pred, Y_test)"
   ]
  },
  {
   "cell_type": "markdown",
   "metadata": {},
   "source": [
    "### Preprocesamiento, entrenamiento y prediccion (Regresion Arbol de Decision)"
   ]
  },
  {
   "cell_type": "code",
   "execution_count": 65,
   "metadata": {},
   "outputs": [
    {
     "data": {
      "text/plain": [
       "21.397251201671892"
      ]
     },
     "execution_count": 65,
     "metadata": {},
     "output_type": "execute_result"
    }
   ],
   "source": [
    "scaler = StandardScaler()\n",
    "clf = DecisionTreeRegressor(random_state=0)\n",
    "\n",
    "pipe = Pipeline([\n",
    "    ('scaler', scaler),\n",
    "    ('regressor', clf)\n",
    "])\n",
    "\n",
    "pipe.fit(X_trai, Y_trai)\n",
    "Y_pred = pipe.predict(X_test)\n",
    "\n",
    "mean_squared_error(Y_pred, Y_test)"
   ]
  },
  {
   "cell_type": "markdown",
   "metadata": {},
   "source": [
    "### Preprocesamiento, entrenamiento y prediccion (Regresion MLP Network)"
   ]
  },
  {
   "cell_type": "code",
   "execution_count": 73,
   "metadata": {},
   "outputs": [
    {
     "data": {
      "text/plain": [
       "19.635162524147567"
      ]
     },
     "execution_count": 73,
     "metadata": {},
     "output_type": "execute_result"
    }
   ],
   "source": [
    "scaler = StandardScaler()\n",
    "clf = MLPRegressor(hidden_layer_sizes=(10,8,10), activation='relu', solver='adam', max_iter=500)\n",
    "\n",
    "pipe = Pipeline([\n",
    "    ('scaler', scaler),\n",
    "    ('regressor', clf)\n",
    "])\n",
    "\n",
    "pipe.fit(X_trai, Y_trai)\n",
    "Y_pred = pipe.predict(X_test)\n",
    "\n",
    "mean_squared_error(Y_pred, Y_test)"
   ]
  },
  {
   "cell_type": "code",
   "execution_count": null,
   "metadata": {},
   "outputs": [],
   "source": []
  }
 ],
 "metadata": {
  "kernelspec": {
   "display_name": "Python 3",
   "language": "python",
   "name": "python3"
  },
  "language_info": {
   "codemirror_mode": {
    "name": "ipython",
    "version": 3
   },
   "file_extension": ".py",
   "mimetype": "text/x-python",
   "name": "python",
   "nbconvert_exporter": "python",
   "pygments_lexer": "ipython3",
   "version": "3.6.7"
  }
 },
 "nbformat": 4,
 "nbformat_minor": 2
}
