{
 "cells": [
  {
   "cell_type": "code",
   "execution_count": 1,
   "metadata": {},
   "outputs": [],
   "source": [
    "import matplotlib.pyplot as plt\n",
    "import pandas as pd\n",
    "import numpy as np"
   ]
  },
  {
   "cell_type": "code",
   "execution_count": 2,
   "metadata": {
    "scrolled": false
   },
   "outputs": [
    {
     "name": "stdout",
     "output_type": "stream",
     "text": [
      "resumen extrusion:\n",
      "                FECHA  TURNO  EXTRUSORA   OPERADOR N° DE PEDIDO  \\\n",
      "0     January 2, 2019    1.0        5.0  OPERADOR1   SAP-020119   \n",
      "1     January 2, 2019    1.0       10.0  OPERADOR1   SAP-020119   \n",
      "2     January 2, 2019    1.0       10.0  OPERADOR2   SAP-020119   \n",
      "3     January 2, 2019    1.0       10.0  OPERADOR1   SAP-020119   \n",
      "4     January 2, 2019    1.0       11.0  OPERADOR1   SAP-020119   \n",
      "...               ...    ...        ...        ...          ...   \n",
      "9879  October 1, 2019    1.0        6.0  OPERADOR5   SAP-280919   \n",
      "9880  October 1, 2019    1.0        6.0  OPERADOR5   SAP-280919   \n",
      "9881  October 1, 2019    1.0       11.0  OPERADOR5     SAP-2665   \n",
      "9882  October 1, 2019    1.0       11.0  OPERADOR5     SAP-2665   \n",
      "9883  October 1, 2019    1.0       13.0  OPERADOR5   SAP-260919   \n",
      "\n",
      "       NOMBRE DE PEDIDO CLAVE SAP  TIPO DE PRODUCTO MEDIDA DE LA BOLSA  \\\n",
      "0       NOMBREDEPEDIDO1       NaN   TIPODEPRODUCTO1              25X35   \n",
      "1       NOMBREDEPEDIDO1       NaN   TIPODEPRODUCTO1              25X35   \n",
      "2       NOMBREDEPEDIDO1       NaN   TIPODEPRODUCTO1              25X35   \n",
      "3       NOMBREDEPEDIDO1       NaN   TIPODEPRODUCTO1              25X35   \n",
      "4       NOMBREDEPEDIDO1       NaN   TIPODEPRODUCTO1              15X27   \n",
      "...                 ...       ...               ...                ...   \n",
      "9879   NOMBREDEPEDIDO22  PROI-028  TIPODEPRODUCTO10           27+15X51   \n",
      "9880   NOMBREDEPEDIDO22  PROI-028  TIPODEPRODUCTO10           27+15X51   \n",
      "9881  NOMBREDEPEDIDO211  MRHI-002   TIPODEPRODUCTO2              28X61   \n",
      "9882  NOMBREDEPEDIDO211  MRHI-002   TIPODEPRODUCTO2              28X61   \n",
      "9883    NOMBREDEPEDIDO1  MTRY-001   TIPODEPRODUCTO1              15X26   \n",
      "\n",
      "      TRATADO  ... % DE BASURA  CONSUMO MP  % MATERIA PRIMA  HORAS DE TRABAJO  \\\n",
      "0         NaN  ...     #DIV/0!        17.1          #DIV/0!              1.05   \n",
      "1         NaN  ...     #DIV/0!        15.2          #DIV/0!              0.33   \n",
      "2         NaN  ...       0.00%          57          100.00%              2.08   \n",
      "3         NaN  ...       0.00%        23.7          100.00%              1.25   \n",
      "4         NaN  ...     #DIV/0!        18.3          #DIV/0!              0.82   \n",
      "...       ...  ...         ...         ...              ...               ...   \n",
      "9879      NaN  ...     #DIV/0!           0          #DIV/0!              0.00   \n",
      "9880      NaN  ...     #DIV/0!           0          #DIV/0!              0.00   \n",
      "9881  2 CARAS  ...       0.00%         150          100.00%              3.00   \n",
      "9882  2 CARAS  ...     #DIV/0!           0          #DIV/0!              0.00   \n",
      "9883      NaN  ...     #DIV/0!           0          #DIV/0!              0.00   \n",
      "\n",
      "     month day  year fecha_chida  week_chida SEMANA  \n",
      "0        1   2  2019  2019-01-02           1      1  \n",
      "1        1   2  2019  2019-01-02           1      1  \n",
      "2        1   2  2019  2019-01-02           1      1  \n",
      "3        1   2  2019  2019-01-02           1      1  \n",
      "4        1   2  2019  2019-01-02           1      1  \n",
      "...    ...  ..   ...         ...         ...    ...  \n",
      "9879    10   1  2019  2019-10-01          40     40  \n",
      "9880    10   1  2019  2019-10-01          40     40  \n",
      "9881    10   1  2019  2019-10-01          40     40  \n",
      "9882    10   1  2019  2019-10-01          40     40  \n",
      "9883    10   1  2019  2019-10-01          40     40  \n",
      "\n",
      "[9884 rows x 33 columns]\n",
      "resumen impresion:\n",
      "      SEMANA       FECHA  TURNO  IMPRESORA   OPERADOR N° DE PEDIDO CLAVE SAP  \\\n",
      "0        1.0  2019-01-02    2.0        5.0  OPERADOR1     SAP-1615       NaN   \n",
      "1        1.0  2019-01-02    2.0        5.0  OPERADOR1     SAP-1615       NaN   \n",
      "2        1.0  2019-01-02    2.0        5.0  OPERADOR1     SAP-1615       NaN   \n",
      "3        1.0  2019-01-02    2.0        5.0  OPERADOR1     SAP-1615       NaN   \n",
      "4        1.0  2019-01-02    2.0        7.0  OPERADOR2     SAP-1604       NaN   \n",
      "...      ...         ...    ...        ...        ...          ...       ...   \n",
      "6367    40.0  2019-10-03    2.0        4.0  OPERADOR7    SAP-2674A  POLE-002   \n",
      "6368    40.0  2019-10-03    2.0        4.0  OPERADOR7    SAP-2672A  POLE-002   \n",
      "6369    40.0  2019-10-03    2.0        5.0  OPERADOR3   SAP-2675-A  QHAC-005   \n",
      "6370    40.0  2019-10-03    2.0        5.0  OPERADOR3   SAP-2675-A  QHAC-005   \n",
      "6371    40.0  2019-10-03    2.0        5.0  OPERADOR3   SAP-2675-A  QHAC-005   \n",
      "\n",
      "      NOMBRE DE PEDIDO  TIPO DE PRODUCTO ANCHO DE PELICULA  ... PESO DE ROLLO  \\\n",
      "0      NOMBREDEPEDIDO1   TIPODEPRODUCTO1              37CM  ...           13.   \n",
      "1      NOMBREDEPEDIDO1   TIPODEPRODUCTO1              37CM  ...           36.   \n",
      "2      NOMBREDEPEDIDO1   TIPODEPRODUCTO1              37CM  ...           56.   \n",
      "3      NOMBREDEPEDIDO1   TIPODEPRODUCTO1              37CM  ...           74.   \n",
      "4      NOMBREDEPEDIDO2   TIPODEPRODUCTO2              60CM  ...           97.   \n",
      "...                ...               ...               ...  ...           ...   \n",
      "6367  NOMBREDEPEDIDO12  TIPODEPRODUCTO23              38CM  ...           44.   \n",
      "6368  NOMBREDEPEDIDO12  TIPODEPRODUCTO23              38CM  ...           45.   \n",
      "6369  NOMBREDEPEDIDO49   TIPODEPRODUCTO6              64CM  ...           65.   \n",
      "6370  NOMBREDEPEDIDO49   TIPODEPRODUCTO6              64CM  ...           16.   \n",
      "6371  NOMBREDEPEDIDO49   TIPODEPRODUCTO6              64CM  ...           60.   \n",
      "\n",
      "     RECUPERADO % DE RECUP HORAS DE TRABAJO DISCO  year month day  week  \\\n",
      "0           NaN        NaN               0.   NaN  2019     1   2     1   \n",
      "1           NaN        NaN               0.   NaN  2019     1   2     1   \n",
      "2           NaN        NaN               0.   NaN  2019     1   2     1   \n",
      "3           NaN        NaN               0.   NaN  2019     1   2     1   \n",
      "4           13.        NaN               0.   NaN  2019     1   2     1   \n",
      "...         ...        ...              ...   ...   ...   ...  ..   ...   \n",
      "6367        NaN        NaN             1.25   NaN  2019    10   3    40   \n",
      "6368        NaN        NaN             1.33   NaN  2019    10   3    40   \n",
      "6369        NaN        NaN             0.83   NaN  2019    10   3    40   \n",
      "6370        NaN        NaN             0.42   NaN  2019    10   3    40   \n",
      "6371        NaN        NaN             1.17   NaN  2019    10   3    40   \n",
      "\n",
      "            date  \n",
      "0     2019-01-02  \n",
      "1     2019-01-02  \n",
      "2     2019-01-02  \n",
      "3     2019-01-02  \n",
      "4     2019-01-02  \n",
      "...          ...  \n",
      "6367  2019-10-03  \n",
      "6368  2019-10-03  \n",
      "6369  2019-10-03  \n",
      "6370  2019-10-03  \n",
      "6371  2019-10-03  \n",
      "\n",
      "[6372 rows x 24 columns]\n",
      "resumen sellado:\n",
      "           FECHA  SEMANA  TURNO  HORA DE INICIO   RESPONSABLE    OPERADORES  \\\n",
      "0     2019-01-02       1    2.0   5:00:00 p. m.  RESPONSABLE1   OPERADORES1   \n",
      "1     2019-01-02       1    2.0   5:00:00 p. m.  RESPONSABLE1   OPERADORES2   \n",
      "2     2019-01-02       1    3.0  10:00:00 p. m.  RESPONSABLE2   OPERADORES3   \n",
      "3     2019-01-02       1    3.0  10:00:00 p. m.  RESPONSABLE2   OPERADORES4   \n",
      "4     2019-01-03       1    1.0   7:00:00 a. m.  RESPONSABLE3   OPERADORES5   \n",
      "...          ...     ...    ...             ...           ...           ...   \n",
      "3763  2019-10-02      40    2.0  10:00:00 p. m.  RESPONSABLE1  OPERADORES11   \n",
      "3764  2019-10-03      40    3.0  10:00:00 p. m.  RESPONSABLE2   OPERADORES4   \n",
      "3765  2019-10-03      40    3.0  10:00:00 p. m.  RESPONSABLE2   OPERADORES5   \n",
      "3766  2019-10-03      40    3.0  10:00:00 p. m.  RESPONSABLE2   OPERADORES3   \n",
      "3767  2019-10-03      40    3.0  10:00:00 p. m.  RESPONSABLE2   OPERADORES8   \n",
      "\n",
      "     NUMERO DE PEDIDO   SELL. NOMBRE DEL PEDIDO TIPO DE BOLSA  ...  \\\n",
      "0            SAP-1615  SEL003         BELLE-001  TIPODEBOLSA1  ...   \n",
      "1            SAP-1604  SEL011          SAPI-001  TIPODEBOLSA2  ...   \n",
      "2            SAP-1615  SEL003         BELLE-001  TIPODEBOLSA1  ...   \n",
      "3            SAP-1604  SEL011          SAPI-001  TIPODEBOLSA2  ...   \n",
      "4            SAP-1606  SEL011          YELI-002  TIPODEBOLSA2  ...   \n",
      "...               ...     ...               ...           ...  ...   \n",
      "3763         SAP-2676  SEL012          TEPU-001  TIPODEBOLSA2  ...   \n",
      "3764       SAP-240919  SEL005          CHED-002  TIPODEBOLSA7  ...   \n",
      "3765           280919  SEL009          PROI-028  TIPODEBOLSA3  ...   \n",
      "3766        SAP-2650B  SEL011          LAHO-007  TIPODEBOLSA5  ...   \n",
      "3767         SAP-2676  SEL012          TEPU-001  TIPODEBOLSA2  ...   \n",
      "\n",
      "     BOLSA DE 2A       ORIGEN  CUARENTENA  BASURA  MUESTRAS  HORA FINAL  \\\n",
      "0           0.54          NaN         NaN    0.12      0.05    21:40:00   \n",
      "1           0.00          NaN         NaN    0.30       0.1    21:45:00   \n",
      "2           1.10  IMP. Y SELL         NaN    0.00      0.06     5:00:00   \n",
      "3           0.00          NaN         NaN    0.10      0.14     3:00:00   \n",
      "4           0.00          NaN         NaN    0.00      0.13     9:00:00   \n",
      "...          ...          ...         ...     ...       ...         ...   \n",
      "3763        0.00          NaN         NaN    0.03      0.08    22:00:00   \n",
      "3764        0.00          NaN         NaN    0.05      0.07     6:00:00   \n",
      "3765        0.00          NaN         NaN    0.54      0.08     6:00:00   \n",
      "3766        0.00          NaN         NaN    0.00         0     6:00:00   \n",
      "3767        0.00          NaN         NaN    0.18         0     6:00:00   \n",
      "\n",
      "      HORAS DE TRABAJO  year month  day  \n",
      "0                 4.70  2019     1    2  \n",
      "1                 4.75  2019     1    2  \n",
      "2                 7.00  2019     1    2  \n",
      "3                 5.00  2019     1    2  \n",
      "4                 2.00  2019     1    3  \n",
      "...                ...   ...   ...  ...  \n",
      "3763              0.00  2019    10    2  \n",
      "3764              8.00  2019    10    3  \n",
      "3765              8.00  2019    10    3  \n",
      "3766              8.00  2019    10    3  \n",
      "3767              8.00  2019    10    3  \n",
      "\n",
      "[3768 rows x 40 columns]\n"
     ]
    }
   ],
   "source": [
    "df_ex = pd.read_csv('datos_limpios/cln_extrusion.csv')\n",
    "df_im = pd.read_csv('datos_limpios/cln_impresion.csv', index_col=0)\n",
    "df_se = pd.read_csv('datos_limpios/cln_sellado.csv', index_col=0)\n",
    "\n",
    "print('resumen extrusion:')\n",
    "print(df_ex)\n",
    "print('resumen impresion:')\n",
    "print(df_im)\n",
    "print('resumen sellado:')\n",
    "print(df_se)"
   ]
  },
  {
   "cell_type": "code",
   "execution_count": 4,
   "metadata": {},
   "outputs": [
    {
     "name": "stdout",
     "output_type": "stream",
     "text": [
      "Index(['FECHA', 'TURNO', 'EXTRUSORA', 'OPERADOR', 'N° DE PEDIDO',\n",
      "       'NOMBRE DE PEDIDO', 'CLAVE SAP', 'TIPO DE PRODUCTO',\n",
      "       'MEDIDA DE LA BOLSA', 'TRATADO', 'ANCHO DE PELICULA', 'N° DE ROLLO',\n",
      "       'CALIBRE PEDIDO', 'CALIBRE REAL', 'MOTIVO DEL CORTE', 'HORA INICIO',\n",
      "       'HORA FINAL', 'KILOS/HORA', 'PRODUCTO CONFORME',\n",
      "       '% DE PRODUCTO CONFORME', 'RECUP.', '% DE RECUP', 'BASURA',\n",
      "       '% DE BASURA', 'CONSUMO MP', '% MATERIA PRIMA', 'HORAS DE TRABAJO',\n",
      "       'month', 'day', 'year', 'fecha_chida', 'week_chida', 'SEMANA'],\n",
      "      dtype='object')\n",
      "Index(['SEMANA', 'FECHA', 'TURNO', 'IMPRESORA', 'OPERADOR', 'N° DE PEDIDO',\n",
      "       'CLAVE SAP', 'NOMBRE DE PEDIDO', 'TIPO DE PRODUCTO',\n",
      "       'ANCHO DE PELICULA', 'TINTAS', 'FOLIO DEL ROLLO', 'HORA INICIO',\n",
      "       'HORA FINAL', 'PESO DE ROLLO', 'RECUPERADO', '% DE RECUP',\n",
      "       'HORAS DE TRABAJO', 'DISCO', 'year', 'month', 'day', 'week', 'date'],\n",
      "      dtype='object')\n",
      "Index(['FECHA', 'SEMANA', 'TURNO', 'HORA DE INICIO', 'RESPONSABLE',\n",
      "       'OPERADORES', 'NUMERO DE PEDIDO', 'SELL.', 'NOMBRE DEL PEDIDO',\n",
      "       'TIPO DE BOLSA', 'MEDIDA', 'CALIBRE', 'GPM (Golpes por minuto)',\n",
      "       'TEMPERATURA DE SELLADO (INFERIOR)',\n",
      "       'TEMPERATURA DE SELLADO (SUPERIOR)', 'PESO/BULTO', 'KG/DE BOBINA',\n",
      "       'N° DE BULTOS', 'PROMEDIO', 'MILLARES', 'SERIALIZADO INICIO',\n",
      "       'SERIALIZADO FIN', 'PESO DE TROQUEL', 'MERMA EXTRUSION',\n",
      "       'CAUSAS EXTRUSION', 'MER IMPRESIÓN', 'CAUSAS IMPRESIÓN',\n",
      "       'IMPRESIÓN  MERMA POR PROCESO', 'MERMA SELLADO', 'CAUSAS SELLADO',\n",
      "       'BOLSA DE 2A', 'ORIGEN', 'CUARENTENA', 'BASURA', 'MUESTRAS',\n",
      "       'HORA FINAL', 'HORAS DE TRABAJO', 'year', 'month', 'day'],\n",
      "      dtype='object')\n"
     ]
    }
   ],
   "source": [
    "print(df_ex.columns)\n",
    "print(df_im.columns)\n",
    "print(df_se.columns)"
   ]
  },
  {
   "cell_type": "code",
   "execution_count": 7,
   "metadata": {
    "scrolled": false
   },
   "outputs": [
    {
     "name": "stdout",
     "output_type": "stream",
     "text": [
      "(954,)\n",
      "(877,)\n",
      "(811,)\n"
     ]
    }
   ],
   "source": [
    "print(df_ex['N° DE PEDIDO'].unique().shape)\n",
    "print(df_im['N° DE PEDIDO'].unique().shape)\n",
    "print(df_se['NUMERO DE PEDIDO'].unique().shape)"
   ]
  },
  {
   "cell_type": "code",
   "execution_count": 15,
   "metadata": {},
   "outputs": [
    {
     "data": {
      "text/plain": [
       "(659,)"
      ]
     },
     "execution_count": 15,
     "metadata": {},
     "output_type": "execute_result"
    }
   ],
   "source": [
    "df_se['NUMERO DE PEDIDO']\n"
   ]
  },
  {
   "cell_type": "code",
   "execution_count": null,
   "metadata": {},
   "outputs": [],
   "source": [
    "pd.Series(list(set(df_se['NUMERO DE PEDIDO']) & set(df_im['N° DE PEDIDO']) & set(df_ex['N° DE PEDIDO']))).unique().shape"
   ]
  }
 ],
 "metadata": {
  "kernelspec": {
   "display_name": "Python 3",
   "language": "python",
   "name": "python3"
  },
  "language_info": {
   "codemirror_mode": {
    "name": "ipython",
    "version": 3
   },
   "file_extension": ".py",
   "mimetype": "text/x-python",
   "name": "python",
   "nbconvert_exporter": "python",
   "pygments_lexer": "ipython3",
   "version": "3.7.4"
  }
 },
 "nbformat": 4,
 "nbformat_minor": 2
}
