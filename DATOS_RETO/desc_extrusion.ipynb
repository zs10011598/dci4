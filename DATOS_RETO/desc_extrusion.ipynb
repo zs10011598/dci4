{
 "cells": [
  {
   "cell_type": "code",
   "execution_count": 1,
   "metadata": {},
   "outputs": [],
   "source": [
    "import pandas as pd\n",
    "import numpy as np\n",
    "import matplotlib.pyplot as plt"
   ]
  },
  {
   "cell_type": "code",
   "execution_count": 2,
   "metadata": {},
   "outputs": [
    {
     "data": {
      "text/html": [
       "<div>\n",
       "<style scoped>\n",
       "    .dataframe tbody tr th:only-of-type {\n",
       "        vertical-align: middle;\n",
       "    }\n",
       "\n",
       "    .dataframe tbody tr th {\n",
       "        vertical-align: top;\n",
       "    }\n",
       "\n",
       "    .dataframe thead th {\n",
       "        text-align: right;\n",
       "    }\n",
       "</style>\n",
       "<table border=\"1\" class=\"dataframe\">\n",
       "  <thead>\n",
       "    <tr style=\"text-align: right;\">\n",
       "      <th></th>\n",
       "      <th>TURNO</th>\n",
       "      <th>EXTRUSORA</th>\n",
       "      <th>N° DE ROLLO</th>\n",
       "      <th>CALIBRE PEDIDO</th>\n",
       "      <th>CALIBRE REAL</th>\n",
       "      <th>PRODUCTO CONFORME</th>\n",
       "      <th>BASURA</th>\n",
       "      <th>HORAS DE TRABAJO</th>\n",
       "      <th>month</th>\n",
       "      <th>day</th>\n",
       "      <th>year</th>\n",
       "      <th>week_chida</th>\n",
       "      <th>SEMANA</th>\n",
       "    </tr>\n",
       "  </thead>\n",
       "  <tbody>\n",
       "    <tr>\n",
       "      <th>count</th>\n",
       "      <td>9883.000000</td>\n",
       "      <td>9883.000000</td>\n",
       "      <td>9883.000000</td>\n",
       "      <td>9882.000000</td>\n",
       "      <td>9831.000000</td>\n",
       "      <td>9873.000000</td>\n",
       "      <td>9854.000000</td>\n",
       "      <td>9883.000000</td>\n",
       "      <td>9884.000000</td>\n",
       "      <td>9884.000000</td>\n",
       "      <td>9884.0</td>\n",
       "      <td>9884.000000</td>\n",
       "      <td>9884.000000</td>\n",
       "    </tr>\n",
       "    <tr>\n",
       "      <th>mean</th>\n",
       "      <td>2.004654</td>\n",
       "      <td>8.106648</td>\n",
       "      <td>7.194678</td>\n",
       "      <td>108.210923</td>\n",
       "      <td>102.807152</td>\n",
       "      <td>91.497721</td>\n",
       "      <td>0.069799</td>\n",
       "      <td>2.926452</td>\n",
       "      <td>4.899332</td>\n",
       "      <td>15.904593</td>\n",
       "      <td>2019.0</td>\n",
       "      <td>19.734015</td>\n",
       "      <td>19.715500</td>\n",
       "    </tr>\n",
       "    <tr>\n",
       "      <th>std</th>\n",
       "      <td>0.808763</td>\n",
       "      <td>3.037871</td>\n",
       "      <td>7.255489</td>\n",
       "      <td>91.740121</td>\n",
       "      <td>316.383239</td>\n",
       "      <td>57.582193</td>\n",
       "      <td>0.389564</td>\n",
       "      <td>1.991602</td>\n",
       "      <td>2.544928</td>\n",
       "      <td>8.901618</td>\n",
       "      <td>0.0</td>\n",
       "      <td>11.070477</td>\n",
       "      <td>11.070552</td>\n",
       "    </tr>\n",
       "    <tr>\n",
       "      <th>min</th>\n",
       "      <td>1.000000</td>\n",
       "      <td>2.000000</td>\n",
       "      <td>0.000000</td>\n",
       "      <td>0.000000</td>\n",
       "      <td>0.000000</td>\n",
       "      <td>0.000000</td>\n",
       "      <td>0.000000</td>\n",
       "      <td>-26.330000</td>\n",
       "      <td>1.000000</td>\n",
       "      <td>1.000000</td>\n",
       "      <td>2019.0</td>\n",
       "      <td>1.000000</td>\n",
       "      <td>1.000000</td>\n",
       "    </tr>\n",
       "    <tr>\n",
       "      <th>25%</th>\n",
       "      <td>1.000000</td>\n",
       "      <td>6.000000</td>\n",
       "      <td>2.000000</td>\n",
       "      <td>28.000000</td>\n",
       "      <td>28.900000</td>\n",
       "      <td>48.000000</td>\n",
       "      <td>0.000000</td>\n",
       "      <td>1.680000</td>\n",
       "      <td>3.000000</td>\n",
       "      <td>8.000000</td>\n",
       "      <td>2019.0</td>\n",
       "      <td>10.000000</td>\n",
       "      <td>10.000000</td>\n",
       "    </tr>\n",
       "    <tr>\n",
       "      <th>50%</th>\n",
       "      <td>2.000000</td>\n",
       "      <td>8.000000</td>\n",
       "      <td>5.000000</td>\n",
       "      <td>77.000000</td>\n",
       "      <td>60.500000</td>\n",
       "      <td>90.000000</td>\n",
       "      <td>0.000000</td>\n",
       "      <td>2.700000</td>\n",
       "      <td>5.000000</td>\n",
       "      <td>16.000000</td>\n",
       "      <td>2019.0</td>\n",
       "      <td>19.000000</td>\n",
       "      <td>19.000000</td>\n",
       "    </tr>\n",
       "    <tr>\n",
       "      <th>75%</th>\n",
       "      <td>3.000000</td>\n",
       "      <td>11.000000</td>\n",
       "      <td>10.000000</td>\n",
       "      <td>167.400000</td>\n",
       "      <td>170.600000</td>\n",
       "      <td>133.000000</td>\n",
       "      <td>0.000000</td>\n",
       "      <td>3.750000</td>\n",
       "      <td>7.000000</td>\n",
       "      <td>24.000000</td>\n",
       "      <td>2019.0</td>\n",
       "      <td>29.000000</td>\n",
       "      <td>29.000000</td>\n",
       "    </tr>\n",
       "    <tr>\n",
       "      <th>max</th>\n",
       "      <td>3.000000</td>\n",
       "      <td>13.000000</td>\n",
       "      <td>45.000000</td>\n",
       "      <td>550.000000</td>\n",
       "      <td>29092.000000</td>\n",
       "      <td>279.000000</td>\n",
       "      <td>30.000000</td>\n",
       "      <td>27.120000</td>\n",
       "      <td>10.000000</td>\n",
       "      <td>31.000000</td>\n",
       "      <td>2019.0</td>\n",
       "      <td>40.000000</td>\n",
       "      <td>40.000000</td>\n",
       "    </tr>\n",
       "  </tbody>\n",
       "</table>\n",
       "</div>"
      ],
      "text/plain": [
       "             TURNO    EXTRUSORA  N° DE ROLLO  CALIBRE PEDIDO  CALIBRE REAL  \\\n",
       "count  9883.000000  9883.000000  9883.000000     9882.000000   9831.000000   \n",
       "mean      2.004654     8.106648     7.194678      108.210923    102.807152   \n",
       "std       0.808763     3.037871     7.255489       91.740121    316.383239   \n",
       "min       1.000000     2.000000     0.000000        0.000000      0.000000   \n",
       "25%       1.000000     6.000000     2.000000       28.000000     28.900000   \n",
       "50%       2.000000     8.000000     5.000000       77.000000     60.500000   \n",
       "75%       3.000000    11.000000    10.000000      167.400000    170.600000   \n",
       "max       3.000000    13.000000    45.000000      550.000000  29092.000000   \n",
       "\n",
       "       PRODUCTO CONFORME       BASURA  HORAS DE TRABAJO        month  \\\n",
       "count        9873.000000  9854.000000       9883.000000  9884.000000   \n",
       "mean           91.497721     0.069799          2.926452     4.899332   \n",
       "std            57.582193     0.389564          1.991602     2.544928   \n",
       "min             0.000000     0.000000        -26.330000     1.000000   \n",
       "25%            48.000000     0.000000          1.680000     3.000000   \n",
       "50%            90.000000     0.000000          2.700000     5.000000   \n",
       "75%           133.000000     0.000000          3.750000     7.000000   \n",
       "max           279.000000    30.000000         27.120000    10.000000   \n",
       "\n",
       "               day    year   week_chida       SEMANA  \n",
       "count  9884.000000  9884.0  9884.000000  9884.000000  \n",
       "mean     15.904593  2019.0    19.734015    19.715500  \n",
       "std       8.901618     0.0    11.070477    11.070552  \n",
       "min       1.000000  2019.0     1.000000     1.000000  \n",
       "25%       8.000000  2019.0    10.000000    10.000000  \n",
       "50%      16.000000  2019.0    19.000000    19.000000  \n",
       "75%      24.000000  2019.0    29.000000    29.000000  \n",
       "max      31.000000  2019.0    40.000000    40.000000  "
      ]
     },
     "execution_count": 2,
     "metadata": {},
     "output_type": "execute_result"
    }
   ],
   "source": [
    "df = pd.read_csv('datos_limpios/cln_extrusion.csv')\n",
    "df.describe()"
   ]
  },
  {
   "cell_type": "code",
   "execution_count": 3,
   "metadata": {},
   "outputs": [
    {
     "data": {
      "text/plain": [
       "FECHA                      object\n",
       "TURNO                     float64\n",
       "EXTRUSORA                 float64\n",
       "OPERADOR                   object\n",
       "N° DE PEDIDO               object\n",
       "NOMBRE DE PEDIDO           object\n",
       "CLAVE SAP                  object\n",
       "TIPO DE PRODUCTO           object\n",
       "MEDIDA DE LA BOLSA         object\n",
       "TRATADO                    object\n",
       "ANCHO DE PELICULA          object\n",
       "N° DE ROLLO               float64\n",
       "CALIBRE PEDIDO            float64\n",
       "CALIBRE REAL              float64\n",
       "MOTIVO DEL CORTE           object\n",
       "HORA INICIO                object\n",
       "HORA FINAL                 object\n",
       "KILOS/HORA                 object\n",
       "PRODUCTO CONFORME         float64\n",
       "% DE PRODUCTO CONFORME     object\n",
       "RECUP.                     object\n",
       "% DE RECUP                 object\n",
       "BASURA                    float64\n",
       "% DE BASURA                object\n",
       "CONSUMO MP                 object\n",
       "% MATERIA PRIMA            object\n",
       "HORAS DE TRABAJO          float64\n",
       "month                       int64\n",
       "day                         int64\n",
       "year                        int64\n",
       "fecha_chida                object\n",
       "week_chida                  int64\n",
       "SEMANA                      int64\n",
       "dtype: object"
      ]
     },
     "execution_count": 3,
     "metadata": {},
     "output_type": "execute_result"
    }
   ],
   "source": [
    "df.dtypes"
   ]
  },
  {
   "cell_type": "markdown",
   "metadata": {},
   "source": [
    "### Pregunta 7. \n",
    "**¿Cómo se compara la distribución del calibre pedido en la base de datos de extrusion con el calibre real en la misma base de datos?**"
   ]
  },
  {
   "cell_type": "code",
   "execution_count": 4,
   "metadata": {},
   "outputs": [
    {
     "data": {
      "text/plain": [
       "CALIBRE PEDIDO     2\n",
       "CALIBRE REAL      53\n",
       "dtype: int64"
      ]
     },
     "execution_count": 4,
     "metadata": {},
     "output_type": "execute_result"
    }
   ],
   "source": [
    "# se obtiene  el número de valores faltantes y se rellenan con splines\n",
    "cols = ['CALIBRE PEDIDO', 'CALIBRE REAL']\n",
    "df[cols].isnull().sum()"
   ]
  },
  {
   "cell_type": "code",
   "execution_count": 5,
   "metadata": {},
   "outputs": [],
   "source": [
    "# se rellenan los datos faltantes con interpolacion\n",
    "df[cols] = df[cols].interpolate()"
   ]
  },
  {
   "cell_type": "code",
   "execution_count": 6,
   "metadata": {},
   "outputs": [
    {
     "data": {
      "text/html": [
       "<div>\n",
       "<style scoped>\n",
       "    .dataframe tbody tr th:only-of-type {\n",
       "        vertical-align: middle;\n",
       "    }\n",
       "\n",
       "    .dataframe tbody tr th {\n",
       "        vertical-align: top;\n",
       "    }\n",
       "\n",
       "    .dataframe thead th {\n",
       "        text-align: right;\n",
       "    }\n",
       "</style>\n",
       "<table border=\"1\" class=\"dataframe\">\n",
       "  <thead>\n",
       "    <tr style=\"text-align: right;\">\n",
       "      <th></th>\n",
       "      <th>CALIBRE PEDIDO</th>\n",
       "      <th>CALIBRE REAL</th>\n",
       "    </tr>\n",
       "  </thead>\n",
       "  <tbody>\n",
       "    <tr>\n",
       "      <th>count</th>\n",
       "      <td>9884.000000</td>\n",
       "      <td>9884.000000</td>\n",
       "    </tr>\n",
       "    <tr>\n",
       "      <th>mean</th>\n",
       "      <td>108.201509</td>\n",
       "      <td>102.700203</td>\n",
       "    </tr>\n",
       "    <tr>\n",
       "      <th>std</th>\n",
       "      <td>91.734477</td>\n",
       "      <td>315.569923</td>\n",
       "    </tr>\n",
       "    <tr>\n",
       "      <th>min</th>\n",
       "      <td>0.000000</td>\n",
       "      <td>0.000000</td>\n",
       "    </tr>\n",
       "    <tr>\n",
       "      <th>25%</th>\n",
       "      <td>28.000000</td>\n",
       "      <td>28.900000</td>\n",
       "    </tr>\n",
       "    <tr>\n",
       "      <th>50%</th>\n",
       "      <td>77.000000</td>\n",
       "      <td>60.500000</td>\n",
       "    </tr>\n",
       "    <tr>\n",
       "      <th>75%</th>\n",
       "      <td>167.400000</td>\n",
       "      <td>170.520000</td>\n",
       "    </tr>\n",
       "    <tr>\n",
       "      <th>max</th>\n",
       "      <td>550.000000</td>\n",
       "      <td>29092.000000</td>\n",
       "    </tr>\n",
       "  </tbody>\n",
       "</table>\n",
       "</div>"
      ],
      "text/plain": [
       "       CALIBRE PEDIDO  CALIBRE REAL\n",
       "count     9884.000000   9884.000000\n",
       "mean       108.201509    102.700203\n",
       "std         91.734477    315.569923\n",
       "min          0.000000      0.000000\n",
       "25%         28.000000     28.900000\n",
       "50%         77.000000     60.500000\n",
       "75%        167.400000    170.520000\n",
       "max        550.000000  29092.000000"
      ]
     },
     "execution_count": 6,
     "metadata": {},
     "output_type": "execute_result"
    }
   ],
   "source": [
    "df[cols].describe()"
   ]
  },
  {
   "cell_type": "markdown",
   "metadata": {},
   "source": [
    "Se puede observar por la descripción de los datos que los primeros tres cuartiles son consistentes a diferencia del último que parece contener _outliers_ con valores muy altos, dado que el máximo en el calibre real está en el orden 1x10^4. A continuación se realizan unas gráficas de caja para observar este frnómeno."
   ]
  },
  {
   "cell_type": "code",
   "execution_count": 7,
   "metadata": {},
   "outputs": [
    {
     "data": {
      "image/png": "[encoded data removed]",
      "text/plain": [
       "<Figure size 1332x756 with 2 Axes>"
      ]
     },
     "metadata": {
      "needs_background": "light"
     },
     "output_type": "display_data"
    }
   ],
   "source": [
    "cols = ['CALIBRE PEDIDO', 'CALIBRE REAL']\n",
    "\n",
    "fig = plt.figure()\n",
    "fig.set_size_inches(18.5, 10.5, forward=True)\n",
    "\n",
    "plt.subplot(1, 2, 1)\n",
    "#plt.hist(df['CALIBRE PEDIDO'], bins=200)\n",
    "plt.boxplot(df['CALIBRE PEDIDO'])\n",
    "plt.title = 'CALIBRE PEDIDO'\n",
    "\n",
    "plt.subplot(1, 2, 2)\n",
    "#plt.hist(df['CALIBRE REAL'], bins=200)\n",
    "plt.boxplot(df['CALIBRE REAL'])\n",
    "plt.title = 'CALIBRE REAL'\n",
    "\n",
    "plt.show()"
   ]
  },
  {
   "cell_type": "markdown",
   "metadata": {},
   "source": [
    "Como se puede observar en el caso del **calibre pedido** la mayoría de los datos se concentran entre los valores 50 y 200, en el caso del **calibre real** parece que también, a continuación se eliminan los outliers y se plotean gráficas de caja e historgramas para verificar sus distribuciones."
   ]
  },
  {
   "cell_type": "code",
   "execution_count": 28,
   "metadata": {},
   "outputs": [
    {
     "data": {
      "image/png": "[encoded data removed]",
      "text/plain": [
       "<Figure size 1332x756 with 1 Axes>"
      ]
     },
     "metadata": {
      "needs_background": "light"
     },
     "output_type": "display_data"
    }
   ],
   "source": [
    "fig = plt.figure()\n",
    "fig.set_size_inches(18.5, 10.5, forward=True)\n",
    "\n",
    "plt.boxplot([df[df[cols[0]] < 300][cols[0]], df[df[cols[1]] < 300][cols[1]]], \n",
    "            labels=['CALIBRE PERDIDO', 'CALIBRE REAL'])\n",
    "\n",
    "plt.show()"
   ]
  },
  {
   "cell_type": "code",
   "execution_count": 19,
   "metadata": {},
   "outputs": [
    {
     "name": "stdout",
     "output_type": "stream",
     "text": [
      "count    9596.000000\n",
      "mean       98.372417\n",
      "std        71.202684\n",
      "min         0.000000\n",
      "25%        28.000000\n",
      "50%        66.000000\n",
      "75%       166.250000\n",
      "max       279.000000\n",
      "Name: CALIBRE PEDIDO, dtype: float64\n",
      "count    9618.000000\n",
      "mean       89.686800\n",
      "std        74.200844\n",
      "min         0.000000\n",
      "25%        28.800000\n",
      "50%        59.290000\n",
      "75%       167.695000\n",
      "max       299.700000\n",
      "Name: CALIBRE REAL, dtype: float64\n"
     ]
    }
   ],
   "source": [
    "print(df[df[cols[0]] < 300][cols[0]].describe()) # calibre perdido\n",
    "print(df[df[cols[1]] < 300][cols[1]].describe()) # calibre real"
   ]
  },
  {
   "cell_type": "code",
   "execution_count": 22,
   "metadata": {},
   "outputs": [
    {
     "data": {
      "image/png": "[encoded data removed]",
      "text/plain": [
       "<Figure size 1332x756 with 4 Axes>"
      ]
     },
     "metadata": {
      "needs_background": "light"
     },
     "output_type": "display_data"
    }
   ],
   "source": [
    "fig = plt.figure()\n",
    "fig.set_size_inches(18.5, 10.5, forward=True)\n",
    "\n",
    "plt.subplot(2, 2, 1)\n",
    "plt.hist(df[df[cols[0]] < 300][cols[0]], bins=100)\n",
    "plt.title = 'CALIBRE PEDIDO 100 bins'\n",
    "\n",
    "plt.subplot(2, 2, 2)\n",
    "plt.hist(df[df[cols[1]] < 300][cols[1]], bins=100)\n",
    "plt.title = 'CALIBRE REAL 100 bins'\n",
    "\n",
    "plt.subplot(2, 2, 3)\n",
    "plt.hist(df[df[cols[0]] < 300][cols[0]], bins=20)\n",
    "plt.title = 'CALIBRE PEDIDO 20 bins'\n",
    "\n",
    "plt.subplot(2, 2, 4)\n",
    "plt.hist(df[df[cols[1]] < 300][cols[1]], bins=20)\n",
    "plt.title = 'CALIBRE REAL 20 bins'\n",
    "\n",
    "plt.show()"
   ]
  },
  {
   "cell_type": "markdown",
   "metadata": {},
   "source": [
    "Por lo que se puede observar en las gráficas de cajas ambas distribuciones son muy similares, esto también se ve reflejado en la descripción de los datos en la media y la desviación estandar. La diferencia entre ambas distribuciones puede notarse más en los histogramas. Con 20 bins se pueden notar ligeras diferencias entre la distribución, más aun, con 100 bins, se alcanza a notar que en la distribución de `'CALIBRE REAL'` los valores de os datos son más variables y en la distribución de `'CALIBRE PEDIDO'` se concentra más en algunos valores.\n",
    "\n",
    "### Pregunta 8\n",
    "**¿Cual es la distribucion del calibre reportado al termino del proceso de sellado a lo largo de todo el periodo de tiempo?**"
   ]
  },
  {
   "cell_type": "code",
   "execution_count": null,
   "metadata": {},
   "outputs": [],
   "source": [
    "df2 = pd.read_csv('datos_limpios/cln')"
   ]
  }
 ],
 "metadata": {
  "kernelspec": {
   "display_name": "Python 3",
   "language": "python",
   "name": "python3"
  },
  "language_info": {
   "codemirror_mode": {
    "name": "ipython",
    "version": 3
   },
   "file_extension": ".py",
   "mimetype": "text/x-python",
   "name": "python",
   "nbconvert_exporter": "python",
   "pygments_lexer": "ipython3",
   "version": "3.7.4"
  }
 },
 "nbformat": 4,
 "nbformat_minor": 2
}
