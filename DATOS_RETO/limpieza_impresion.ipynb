{
 "cells": [
  {
   "cell_type": "code",
   "execution_count": 55,
   "metadata": {},
   "outputs": [],
   "source": [
    "import pandas as pd\n",
    "import numpy as np"
   ]
  },
  {
   "cell_type": "code",
   "execution_count": 56,
   "metadata": {},
   "outputs": [
    {
     "data": {
      "text/plain": [
       "(11919, 25)"
      ]
     },
     "execution_count": 56,
     "metadata": {},
     "output_type": "execute_result"
    }
   ],
   "source": [
    "df = pd.read_csv('impresion.csv', parse_dates=['FECHA'])\n",
    "df.shape"
   ]
  },
  {
   "cell_type": "markdown",
   "metadata": {},
   "source": [
    "### Limpiando fecha\n",
    "\n",
    "Se descarta semana ya que es muy facil obtenerla apartir de la fecha"
   ]
  },
  {
   "cell_type": "code",
   "execution_count": 57,
   "metadata": {},
   "outputs": [],
   "source": [
    "df = df.drop('SEMANA', axis=1)"
   ]
  },
  {
   "cell_type": "code",
   "execution_count": 60,
   "metadata": {},
   "outputs": [
    {
     "name": "stdout",
     "output_type": "stream",
     "text": [
      "<class 'pandas.core.frame.DataFrame'>\n",
      "RangeIndex: 11919 entries, 0 to 11918\n",
      "Data columns (total 24 columns):\n",
      "FECHA                6369 non-null object\n",
      "TURNO                6368 non-null float64\n",
      "IMPRESORA            6353 non-null float64\n",
      "OPERADOR             11919 non-null object\n",
      "N° DE PEDIDO         11705 non-null object\n",
      "CLAVE SAP            7596 non-null object\n",
      "NOMBRE DE PEDIDO     11919 non-null object\n",
      "TIPO DE PRODUCTO     11919 non-null object\n",
      "ANCHO DE PELICULA    11696 non-null object\n",
      "TINTAS               53 non-null object\n",
      "FOLIO DEL ROLLO      7735 non-null object\n",
      "HORA INICIO          6259 non-null object\n",
      "HORA FINAL           6247 non-null object\n",
      "PESO DE ROLLO        6071 non-null object\n",
      "RECUPERADO           455 non-null object\n",
      "% DE RECUP           3 non-null object\n",
      "HORAS DE TRABAJO     8057 non-null object\n",
      "DISCO                0 non-null float64\n",
      "Columna1             0 non-null float64\n",
      "Columna2             0 non-null float64\n",
      "Columna3             0 non-null float64\n",
      "Columna4             0 non-null float64\n",
      "Columna5             0 non-null float64\n",
      "Columna6             0 non-null float64\n",
      "dtypes: float64(9), object(15)\n",
      "memory usage: 2.2+ MB\n"
     ]
    }
   ],
   "source": [
    "index_aux = list(df[df['FECHA'] == '3-Jan'].index)\n",
    "for i in range(len(index_aux)):\n",
    "    df.at[index_aux, 'FECHA'] = '01/03/19'\n",
    "    \n",
    "index_aux = list(df[df['FECHA'] == '9-Jan'].index)\n",
    "for i in range(len(index_aux)):\n",
    "    df.at[index_aux, 'FECHA'] = '01/09/19'\n",
    "\n",
    "df.at[11907, 'FECHA'] = np.nan\n",
    "\n",
    "df.info()"
   ]
  },
  {
   "cell_type": "code",
   "execution_count": 76,
   "metadata": {},
   "outputs": [
    {
     "name": "stdout",
     "output_type": "stream",
     "text": [
      "<class 'pandas.core.frame.DataFrame'>\n",
      "RangeIndex: 11919 entries, 0 to 11918\n",
      "Data columns (total 24 columns):\n",
      "FECHA                11919 non-null object\n",
      "TURNO                6368 non-null float64\n",
      "IMPRESORA            6353 non-null float64\n",
      "OPERADOR             11919 non-null object\n",
      "N° DE PEDIDO         11705 non-null object\n",
      "CLAVE SAP            7596 non-null object\n",
      "NOMBRE DE PEDIDO     11919 non-null object\n",
      "TIPO DE PRODUCTO     11919 non-null object\n",
      "ANCHO DE PELICULA    11696 non-null object\n",
      "TINTAS               53 non-null object\n",
      "FOLIO DEL ROLLO      7735 non-null object\n",
      "HORA INICIO          6259 non-null object\n",
      "HORA FINAL           6247 non-null object\n",
      "PESO DE ROLLO        6071 non-null object\n",
      "RECUPERADO           455 non-null object\n",
      "% DE RECUP           3 non-null object\n",
      "HORAS DE TRABAJO     8057 non-null object\n",
      "DISCO                0 non-null float64\n",
      "Columna1             0 non-null float64\n",
      "Columna2             0 non-null float64\n",
      "Columna3             0 non-null float64\n",
      "Columna4             0 non-null float64\n",
      "Columna5             0 non-null float64\n",
      "Columna6             0 non-null float64\n",
      "dtypes: float64(9), object(15)\n",
      "memory usage: 2.2+ MB\n"
     ]
    }
   ],
   "source": [
    "df['FECHA'] = df['FECHA'].interpolate(method='pad', limit=3000)\n",
    "df.info()"
   ]
  },
  {
   "cell_type": "code",
   "execution_count": 78,
   "metadata": {},
   "outputs": [
    {
     "data": {
      "text/plain": [
       "array(['1/2/19', '1/3/19', '01/03/19', '1/4/19', '1/5/19', '1/7/19',\n",
       "       '1/8/19', '1/9/19', '01/09/19', '1/10/19', '1/11/19', '1/12/19',\n",
       "       '1/14/19', '1/15/19', '1/16/19', '1/16/16', '1/17/19', '1/18/19',\n",
       "       '1/19/19', '1/21/19', '1/22/19', '1/23/19', '1/24/19', '1/25/19',\n",
       "       '1/28/19', '1/29/19', '1/30/19', '1/31/19', '2/1/19', '2/2/19',\n",
       "       '2/5/19', '2/6/19', '2/7/19', '2/8/19', '2/9/19', '2/11/19',\n",
       "       '2/12/19', '2/13/19', '2/14/19', '2/15/19', '2/16/19', '2/18/19',\n",
       "       '2/19/19', '2/20/19', '2/21/19', '2/22/19', '2/23/19', '2/25/19',\n",
       "       '2/26/19', '2/27/19', '2/28/19', '3/1/19', '3/2/19', '3/4/19',\n",
       "       '3/5/19', '3/6/19', '6/6/19', '3/7/19', '3/8/19', '3/9/19',\n",
       "       '3/11/19', '3/12/19', '3/13/19', '3/14/19', '3/15/19', '3/16/19',\n",
       "       '3/19/19', '3/20/19', '3/21/19', '3/22/19', '3/23/19', '3/25/19',\n",
       "       '3/26/19', '4/26/19', '3/27/19', '3/28/19', '4/28/19', '3/29/19',\n",
       "       '3/30/19', '4/1/19', '4/2/19', '4/3/19', '4/4/19', '4/5/19',\n",
       "       '5/4/19', '4/6/19', '4/8/19', '4/9/19', '4/10/19', '4/11/19',\n",
       "       '4/12/19', '4/13/19', '4/15/19', '4/16/19', '4/16/16', '4/17/19',\n",
       "       '4/18/19', '4/22/19', '4/23/19', '4/24/19', '4/25/19', '4/27/19',\n",
       "       '4/29/19', '5/16/19', '4/30/19', '5/1/19', '5/2/19', '5/3/19',\n",
       "       '5/6/19', '5/7/19', '5/8/19', '5/9/19', '5/10/19', '5/11/19',\n",
       "       '5/13/19', '5/14/19', '5/15/19', '5/17/19', '5/18/19', '5/20/19',\n",
       "       '5/21/19', '5/22/19', '5/23/19', '5/24/19', '5/25/19', '5/26/19',\n",
       "       '5/27/19', '5/28/19', '6/28/19', '5/29/19', '5/30/19', '5/31/19',\n",
       "       '6/1/19', '6/5/19', '5/5/19', '6/7/19', '6/8/19', '6/8/18',\n",
       "       '6/10/19', '6/11/19', '6/12/19', '6/13/19', '6/14/19', '6/15/19',\n",
       "       '6/17/19', '6/18/19', '6/19/19', '6/20/19', '6/21/19', '6/22/19',\n",
       "       '6/24/19', '6/25/19', '6/26/19', '6/27/19', '6/29/19', '7/1/19',\n",
       "       '7/2/19', '7/3/19', '7/4/19', '7/5/19', '7/6/19', '7/8/19',\n",
       "       '7/9/19', '7/10/19', '7/11/19', '7/12/19', '7/13/19', '7/15/19',\n",
       "       '7/16/19', '7/17/19', '7/18/19', '7/19/19', '7/20/19', '7/22/19',\n",
       "       '7/23/19', '7/24/19', '7/25/19', '7/26/19', '7/27/19', '7/28/19',\n",
       "       '7/29/19', '7/31/19', '8/1/19', '8/2/19', '8/3/19', '8/5/19',\n",
       "       '8/6/19', '8/7/19', '8/8/19', '8/9/19', '8/10/19', '8/12/19',\n",
       "       '8/13/19', '14-Aug', '8/14/19', '8/15/19', '8/16/19', '8/17/19',\n",
       "       '8/19/19', '8/20/19', '8/21/19', '8/22/19', '8/23/19', '8/24/19',\n",
       "       '8/25/19', '8/26/19', '8/27/19', '8/28/19', '8/29/19', '8/30/19',\n",
       "       '8/31/19', '9/2/19', '9/3/19', '9/4/19', '9/5/19', '9/6/19',\n",
       "       '9/7/19', '9/9/19', '9/10/19', '9/11/19', '9/1/19', '9/12/19',\n",
       "       '9/13/19', '9/14/19', '9/17/19', '9/18/19', '9/19/19', '9/20/19',\n",
       "       '9/21/19', '9/23/19', '9/24/19', '1/24/00', '9/25/19', '9/26/19',\n",
       "       '9/27/19', '9/28/19', '9/30/19', '10/1/19', '10/2/19', '10/3/19'],\n",
       "      dtype=object)"
      ]
     },
     "execution_count": 78,
     "metadata": {},
     "output_type": "execute_result"
    }
   ],
   "source": [
    "df['FECHA'].unique()"
   ]
  },
  {
   "cell_type": "code",
   "execution_count": 77,
   "metadata": {},
   "outputs": [
    {
     "data": {
      "text/plain": [
       "'10/3/19'"
      ]
     },
     "execution_count": 77,
     "metadata": {},
     "output_type": "execute_result"
    }
   ],
   "source": [
    "df.iloc[11918]['FECHA']"
   ]
  },
  {
   "cell_type": "code",
   "execution_count": null,
   "metadata": {},
   "outputs": [],
   "source": []
  }
 ],
 "metadata": {
  "kernelspec": {
   "display_name": "Python 3",
   "language": "python",
   "name": "python3"
  },
  "language_info": {
   "codemirror_mode": {
    "name": "ipython",
    "version": 3
   },
   "file_extension": ".py",
   "mimetype": "text/x-python",
   "name": "python",
   "nbconvert_exporter": "python",
   "pygments_lexer": "ipython3",
   "version": "3.6.7"
  }
 },
 "nbformat": 4,
 "nbformat_minor": 2
}
