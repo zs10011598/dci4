{
 "cells": [
  {
   "cell_type": "code",
   "execution_count": 1,
   "metadata": {},
   "outputs": [],
   "source": [
    "import matplotlib.pyplot as plt\n",
    "import pandas as pd\n",
    "import numpy as np"
   ]
  },
  {
   "cell_type": "code",
   "execution_count": 21,
   "metadata": {
    "scrolled": false
   },
   "outputs": [],
   "source": [
    "df_ex = pd.read_csv('datos_limpios/cln_extrusion.csv')\n",
    "df_im = pd.read_csv('datos_limpios/cln_impresion.csv', index_col=0)\n",
    "df_se = pd.read_csv('datos_limpios/cln_sellado.csv', index_col=0)\n"
   ]
  },
  {
   "cell_type": "code",
   "execution_count": 22,
   "metadata": {},
   "outputs": [
    {
     "name": "stdout",
     "output_type": "stream",
     "text": [
      "Index(['FECHA', 'TURNO', 'EXTRUSORA', 'OPERADOR', 'N° DE PEDIDO',\n",
      "       'NOMBRE DE PEDIDO', 'CLAVE SAP', 'TIPO DE PRODUCTO',\n",
      "       'MEDIDA DE LA BOLSA', 'TRATADO', 'ANCHO DE PELICULA', 'N° DE ROLLO',\n",
      "       'CALIBRE PEDIDO', 'CALIBRE REAL', 'MOTIVO DEL CORTE', 'HORA INICIO',\n",
      "       'HORA FINAL', 'KILOS/HORA', 'PRODUCTO CONFORME',\n",
      "       '% DE PRODUCTO CONFORME', 'RECUP.', '% DE RECUP', 'BASURA',\n",
      "       '% DE BASURA', 'CONSUMO MP', '% MATERIA PRIMA', 'HORAS DE TRABAJO',\n",
      "       'month', 'day', 'year', 'fecha_chida', 'week_chida', 'SEMANA'],\n",
      "      dtype='object')\n",
      "Index(['SEMANA', 'FECHA', 'TURNO', 'IMPRESORA', 'OPERADOR', 'N° DE PEDIDO',\n",
      "       'CLAVE SAP', 'NOMBRE DE PEDIDO', 'TIPO DE PRODUCTO',\n",
      "       'ANCHO DE PELICULA', 'TINTAS', 'FOLIO DEL ROLLO', 'HORA INICIO',\n",
      "       'HORA FINAL', 'PESO DE ROLLO', 'RECUPERADO', '% DE RECUP',\n",
      "       'HORAS DE TRABAJO', 'DISCO', 'year', 'month', 'day', 'week', 'date'],\n",
      "      dtype='object')\n",
      "Index(['FECHA', 'SEMANA', 'TURNO', 'HORA DE INICIO', 'RESPONSABLE',\n",
      "       'OPERADORES', 'NUMERO DE PEDIDO', 'SELL.', 'NOMBRE DEL PEDIDO',\n",
      "       'TIPO DE BOLSA', 'MEDIDA', 'CALIBRE', 'GPM (Golpes por minuto)',\n",
      "       'TEMPERATURA DE SELLADO (INFERIOR)',\n",
      "       'TEMPERATURA DE SELLADO (SUPERIOR)', 'PESO/BULTO', 'KG/DE BOBINA',\n",
      "       'N° DE BULTOS', 'PROMEDIO', 'MILLARES', 'SERIALIZADO INICIO',\n",
      "       'SERIALIZADO FIN', 'PESO DE TROQUEL', 'MERMA EXTRUSION',\n",
      "       'CAUSAS EXTRUSION', 'MER IMPRESIÓN', 'CAUSAS IMPRESIÓN',\n",
      "       'IMPRESIÓN  MERMA POR PROCESO', 'MERMA SELLADO', 'CAUSAS SELLADO',\n",
      "       'BOLSA DE 2A', 'ORIGEN', 'CUARENTENA', 'BASURA', 'MUESTRAS',\n",
      "       'HORA FINAL', 'HORAS DE TRABAJO', 'year', 'month', 'day'],\n",
      "      dtype='object')\n"
     ]
    }
   ],
   "source": [
    "print(df_ex.columns)\n",
    "print(df_im.columns)\n",
    "print(df_se.columns)"
   ]
  },
  {
   "cell_type": "code",
   "execution_count": 7,
   "metadata": {
    "scrolled": false
   },
   "outputs": [
    {
     "name": "stdout",
     "output_type": "stream",
     "text": [
      "(954,)\n",
      "(877,)\n",
      "(811,)\n"
     ]
    }
   ],
   "source": [
    "print(df_ex['N° DE PEDIDO'].unique().shape)\n",
    "print(df_im['N° DE PEDIDO'].unique().shape)\n",
    "print(df_se['NUMERO DE PEDIDO'].unique().shape)"
   ]
  },
  {
   "cell_type": "code",
   "execution_count": 33,
   "metadata": {},
   "outputs": [
    {
     "name": "stdout",
     "output_type": "stream",
     "text": [
      "productos con merma de extrusion: 305\n",
      "productos con merma de impresion: 692\n",
      "productos con merma de sellado: 805\n"
     ]
    }
   ],
   "source": [
    "mer_ex = df_se[df_se['MERMA EXTRUSION'] > 0]['NUMERO DE PEDIDO'].unique()\n",
    "mer_im = df_se[df_se['MER IMPRESIÓN'] > 0]['NUMERO DE PEDIDO'].unique()\n",
    "mer_se = df_se[df_se['MERMA SELLADO'] > 0]['NUMERO DE PEDIDO'].unique()\n",
    "\n",
    "print('productos con merma de extrusion:',len(mer_ex))\n",
    "print('productos con merma de impresion:',len(mer_im))\n",
    "print('productos con merma de sellado:',len(mer_se))"
   ]
  },
  {
   "cell_type": "code",
   "execution_count": 46,
   "metadata": {
    "scrolled": false
   },
   "outputs": [
    {
     "name": "stdout",
     "output_type": "stream",
     "text": [
      "     NUMERO DE PEDIDO NOMBRE DEL PEDIDO\n",
      "3654        SAP-2638A          ALVA-002\n",
      "     N° DE PEDIDO   NOMBRE DE PEDIDO TIPO DE PRODUCTO\n",
      "6135     SAP-2637  NOMBREDEPEDIDO462  TIPODEPRODUCTO2\n",
      "6136     SAP-2637  NOMBREDEPEDIDO462  TIPODEPRODUCTO2\n",
      "6137     SAP-2637  NOMBREDEPEDIDO462  TIPODEPRODUCTO2\n",
      "6138     SAP-2637  NOMBREDEPEDIDO462  TIPODEPRODUCTO2\n",
      "6143     SAP-2637  NOMBREDEPEDIDO462  TIPODEPRODUCTO2\n",
      "6144     SAP-2637  NOMBREDEPEDIDO462  TIPODEPRODUCTO2\n",
      "6145     SAP-2637  NOMBREDEPEDIDO462  TIPODEPRODUCTO2\n",
      "6146     SAP-2637  NOMBREDEPEDIDO462  TIPODEPRODUCTO2\n",
      "6147     SAP-2637  NOMBREDEPEDIDO462  TIPODEPRODUCTO2\n",
      "6148     SAP-2637  NOMBREDEPEDIDO462  TIPODEPRODUCTO2\n",
      "6149     SAP-2637  NOMBREDEPEDIDO462  TIPODEPRODUCTO2\n",
      "6150     SAP-2637  NOMBREDEPEDIDO462  TIPODEPRODUCTO2\n",
      "6151     SAP-2637  NOMBREDEPEDIDO462  TIPODEPRODUCTO2\n",
      "6152     SAP-2637  NOMBREDEPEDIDO462  TIPODEPRODUCTO2\n",
      "6153     SAP-2637  NOMBREDEPEDIDO462  TIPODEPRODUCTO2\n",
      "6154     SAP-2637  NOMBREDEPEDIDO462  TIPODEPRODUCTO2\n",
      "6155     SAP-2637  NOMBREDEPEDIDO462  TIPODEPRODUCTO2\n",
      "6156     SAP-2637  NOMBREDEPEDIDO462  TIPODEPRODUCTO2\n",
      "6157     SAP-2637  NOMBREDEPEDIDO462  TIPODEPRODUCTO2\n",
      "6171     SAP-2637  NOMBREDEPEDIDO462  TIPODEPRODUCTO2\n",
      "6172     SAP-2637  NOMBREDEPEDIDO462  TIPODEPRODUCTO2\n",
      "6173     SAP-2637  NOMBREDEPEDIDO462  TIPODEPRODUCTO2\n",
      "6174     SAP-2637  NOMBREDEPEDIDO462  TIPODEPRODUCTO2\n",
      "6175     SAP-2637  NOMBREDEPEDIDO462  TIPODEPRODUCTO2\n",
      "6176     SAP-2637  NOMBREDEPEDIDO462  TIPODEPRODUCTO2\n",
      "6177     SAP-2637  NOMBREDEPEDIDO462  TIPODEPRODUCTO2\n",
      "6185     SAP-2637  NOMBREDEPEDIDO462  TIPODEPRODUCTO2\n",
      "6186     SAP-2637  NOMBREDEPEDIDO462  TIPODEPRODUCTO2\n",
      "6187     SAP-2637  NOMBREDEPEDIDO462  TIPODEPRODUCTO2\n",
      "6188     SAP-2637  NOMBREDEPEDIDO462  TIPODEPRODUCTO2\n",
      "6189     SAP-2637  NOMBREDEPEDIDO462  TIPODEPRODUCTO2\n",
      "     N° DE PEDIDO   NOMBRE DE PEDIDO TIPO DE PRODUCTO\n",
      "9560     SAP-2637  NOMBREDEPEDIDO133  TIPODEPRODUCTO2\n",
      "9561     SAP-2637  NOMBREDEPEDIDO133  TIPODEPRODUCTO2\n",
      "9565     SAP-2637  NOMBREDEPEDIDO133  TIPODEPRODUCTO2\n",
      "9566     SAP-2637  NOMBREDEPEDIDO133  TIPODEPRODUCTO2\n",
      "9567     SAP-2637  NOMBREDEPEDIDO133  TIPODEPRODUCTO2\n",
      "9572     SAP-2637  NOMBREDEPEDIDO133  TIPODEPRODUCTO2\n",
      "9573     SAP-2637  NOMBREDEPEDIDO133  TIPODEPRODUCTO2\n",
      "9574     SAP-2637  NOMBREDEPEDIDO133  TIPODEPRODUCTO2\n",
      "9580     SAP-2637  NOMBREDEPEDIDO133  TIPODEPRODUCTO2\n",
      "9581     SAP-2637  NOMBREDEPEDIDO133  TIPODEPRODUCTO2\n",
      "9586     SAP-2637  NOMBREDEPEDIDO133  TIPODEPRODUCTO2\n",
      "9592     SAP-2637  NOMBREDEPEDIDO133  TIPODEPRODUCTO2\n",
      "9605     SAP-2637  NOMBREDEPEDIDO133  TIPODEPRODUCTO2\n",
      "9606     SAP-2637  NOMBREDEPEDIDO133  TIPODEPRODUCTO2\n",
      "9621     SAP-2637  NOMBREDEPEDIDO133  TIPODEPRODUCTO2\n",
      "9622     SAP-2637  NOMBREDEPEDIDO133  TIPODEPRODUCTO2\n",
      "9623     SAP-2637  NOMBREDEPEDIDO133  TIPODEPRODUCTO2\n",
      "9637     SAP-2637  NOMBREDEPEDIDO133  TIPODEPRODUCTO2\n",
      "9638     SAP-2637  NOMBREDEPEDIDO133  TIPODEPRODUCTO2\n",
      "9639     SAP-2637  NOMBREDEPEDIDO133  TIPODEPRODUCTO2\n",
      "9640     SAP-2637  NOMBREDEPEDIDO133  TIPODEPRODUCTO2\n",
      "9652     SAP-2637  NOMBREDEPEDIDO133  TIPODEPRODUCTO2\n"
     ]
    }
   ],
   "source": [
    "print(df_se[df_se['NUMERO DE PEDIDO']=='SAP-2638A'][['NUMERO DE PEDIDO', 'NOMBRE DEL PEDIDO']])\n",
    "print(df_im[df_im['N° DE PEDIDO']=='SAP-2637'][['N° DE PEDIDO', 'NOMBRE DE PEDIDO', 'TIPO DE PRODUCTO']])\n",
    "print(df_ex[df_ex['N° DE PEDIDO']=='SAP-2637'][['N° DE PEDIDO', 'NOMBRE DE PEDIDO', 'TIPO DE PRODUCTO']])"
   ]
  },
  {
   "cell_type": "markdown",
   "metadata": {},
   "source": [
    "Lo anterior indica que hay muchas entradas de un solo pedido, pero todas ellas son del mismo producto por lo que se deduce que un pedido corresponde a un solo tipo de producto."
   ]
  },
  {
   "cell_type": "code",
   "execution_count": 40,
   "metadata": {},
   "outputs": [],
   "source": [
    "pedidos_merma = pd.Series(list(set(mer_se) & set(mer_im) & set(mer_ex))).unique()"
   ]
  },
  {
   "cell_type": "markdown",
   "metadata": {},
   "source": [
    "la variable `pedidos_merma` almacena los pedidos que tienen merma en las 3 fases, en las variables `mer_ex`, `mer_im` y `mer_se` se almacenan los pedidos con merma en cada uno de los procesos. con esta información se pueden obtener los resultados de la pregunta 2 a la 7."
   ]
  },
  {
   "cell_type": "code",
   "execution_count": 43,
   "metadata": {},
   "outputs": [
    {
     "data": {
      "text/plain": [
       "array([nan, 'IMP. Y SELL', 'IMPRESIÓN', 'SELLADO', 'IMP. Y EXT.',\n",
       "       'EXTRUSION', 'SELL. Y EXT.'], dtype=object)"
      ]
     },
     "execution_count": 43,
     "metadata": {},
     "output_type": "execute_result"
    }
   ],
   "source": [
    "df_se['ORIGEN'].unique()"
   ]
  },
  {
   "cell_type": "markdown",
   "metadata": {},
   "source": [
    "### Pregunta 2\n",
    "\n",
    "Partiendo de la base de datos de SELLADO, identificar los productos reportados con merma en cada parte del proceso anterior al sellado:\n",
    "\n",
    "1. extrusion\n",
    "2. impresion\n",
    "3. sellado\n"
   ]
  },
  {
   "cell_type": "code",
   "execution_count": 62,
   "metadata": {},
   "outputs": [
    {
     "name": "stdout",
     "output_type": "stream",
     "text": [
      "productos con merma que han pasado por los 3 procesos:\n",
      "extrusion: 305\n",
      "impresion: 692\n",
      "sellado: 805\n"
     ]
    }
   ],
   "source": [
    "print('productos con merma que han pasado por los 3 procesos:')\n",
    "print('extrusion:',len(mer_ex))\n",
    "print('impresion:',len(mer_im))\n",
    "print('sellado:',len(mer_se))"
   ]
  },
  {
   "cell_type": "code",
   "execution_count": 64,
   "metadata": {},
   "outputs": [
    {
     "name": "stdout",
     "output_type": "stream",
     "text": [
      "productos con merma en extrusión:\n",
      "['TIPODEPRODUCTO2' 'TIPODEPRODUCTO3' 'TIPODEPRODUCTO7' 'TIPODEPRODUCTO1'\n",
      " 'TIPODEPRODUCTO6' 'TIPODEPRODUCTO9' 'TIPODEPRODUCTO5' 'TIPODEPRODUCTO8'\n",
      " 'TIPODEPRODUCTO10']\n",
      "productos con merma en impresion:\n",
      "['TIPODEPRODUCTO1' 'TIPODEPRODUCTO2' 'TIPODEPRODUCTO4' 'TIPODEPRODUCTO5'\n",
      " 'TIPODEPRODUCTO6' 'TIPODEPRODUCTO7' 'TIPODEPRODUCTO8' 'TIPODEPRODUCTO9'\n",
      " 'TIPODEPRODUCTO11' 'TIPODEPRODUCTO10' 'TIPODEPRODUCTO13'\n",
      " 'TIPODEPRODUCTO14' 'TIPODEPRODUCTO16' 'TIPODEPRODUCTO17'\n",
      " 'TIPODEPRODUCTO20' 'TIPODEPRODUCTO21' 'TIPODEPRODUCTO23'\n",
      " 'TIPODEPRODUCTO18']\n",
      "productos con merma en sellado:\n",
      "{'TIPODEPRODUCTO3', 'TIPODEPRODUCTO8', 'TIPODEPRODUCTO2', 'TIPODEPRODUCTO14', 'TIPODEPRODUCTO12', 'TIPODEPRODUCTO7', 'TIPODEPRODUCTO19', 'TIPODEPRODUCTO10', 'TIPODEPRODUCTO5', 'TIPODEPRODUCTO17', 'TIPODEPRODUCTO16', 'TIPODEPRODUCTO23', 'TIPODEPRODUCTO4', 'TIPODEPRODUCTO11', 'TIPODEPRODUCTO18', 'TIPODEPRODUCTO1', 'TIPODEPRODUCTO6'}\n"
     ]
    },
    {
     "name": "stderr",
     "output_type": "stream",
     "text": [
      "/home/sgm/miniconda3/envs/dci/lib/python3.7/site-packages/ipykernel_launcher.py:9: UserWarning: Boolean Series key will be reindexed to match DataFrame index.\n",
      "  if __name__ == '__main__':\n"
     ]
    }
   ],
   "source": [
    "print(\"productos con merma en extrusión:\")\n",
    "print(df_ex[df_ex['N° DE PEDIDO'].isin(mer_ex)]['TIPO DE PRODUCTO'].unique())\n",
    "\n",
    "print(\"productos con merma en impresion:\")\n",
    "print(df_im[df_im['N° DE PEDIDO'].isin(mer_im)]['TIPO DE PRODUCTO'].unique())\n",
    "\n",
    "print(\"productos con merma en sellado:\")\n",
    "print(set(df_im[df_im['N° DE PEDIDO'].isin(pedidos_merma)]['TIPO DE PRODUCTO'].unique()) |\n",
    "       set(df_im[df_ex['N° DE PEDIDO'].isin(pedidos_merma)]['TIPO DE PRODUCTO'].unique()))"
   ]
  },
  {
   "cell_type": "markdown",
   "metadata": {},
   "source": [
    "### Pregunta 3\n",
    "\n",
    "**Para cada uno de los productos identificados en el punto anterior (es decir con reportados con merma en alguna parte  el proceso), determinar que codigos tienen asociados en las columnas CLAVE SAP, NOMBRE DEL PEDIDO y No DE PEDIDO. Indicar cuales usar para identificar inequivocamente los mismos en cada una de las otras bases de datos.**\n",
    "\n",
    "Para identificar los mismos productos en cada una de la base de datos se toma como llave de asociación el número de pedido, que, como se identificó anteriormente, hay una correspondencia de 1 a 1 con el tipo de producto, i.e. hay un producto por cada pedido."
   ]
  },
  {
   "cell_type": "code",
   "execution_count": 69,
   "metadata": {},
   "outputs": [
    {
     "name": "stdout",
     "output_type": "stream",
     "text": [
      "productos con merma en extrusión:\n",
      "     CLAVE SAP   NOMBRE DE PEDIDO N° DE PEDIDO\n",
      "94         NaN    NOMBREDEPEDIDO9     SAP-1612\n",
      "95         NaN    NOMBREDEPEDIDO9     SAP-1612\n",
      "96         NaN    NOMBREDEPEDIDO9     SAP-1612\n",
      "97         NaN    NOMBREDEPEDIDO9     SAP-1612\n",
      "168        NaN   NOMBREDEPEDIDO17     SAP-1633\n",
      "...        ...                ...          ...\n",
      "9875  CHED-002   NOMBREDEPEDIDO22   SAP-240919\n",
      "9877  CHED-002   NOMBREDEPEDIDO22   SAP-240919\n",
      "9878  CHED-002   NOMBREDEPEDIDO22   SAP-240919\n",
      "9881  MRHI-002  NOMBREDEPEDIDO211     SAP-2665\n",
      "9882  MRHI-002  NOMBREDEPEDIDO211     SAP-2665\n",
      "\n",
      "[3111 rows x 3 columns]\n",
      "productos con merma en impresion:\n",
      "     CLAVE SAP  NOMBRE DE PEDIDO N° DE PEDIDO\n",
      "0          NaN   NOMBREDEPEDIDO1     SAP-1615\n",
      "1          NaN   NOMBREDEPEDIDO1     SAP-1615\n",
      "2          NaN   NOMBREDEPEDIDO1     SAP-1615\n",
      "3          NaN   NOMBREDEPEDIDO1     SAP-1615\n",
      "4          NaN   NOMBREDEPEDIDO2     SAP-1604\n",
      "...        ...               ...          ...\n",
      "6355  TEPU-001  NOMBREDEPEDIDO57     SAP-2676\n",
      "6361  TEPU-001  NOMBREDEPEDIDO57     SAP-2676\n",
      "6362  TEPU-001  NOMBREDEPEDIDO57     SAP-2676\n",
      "6363  TEPU-001  NOMBREDEPEDIDO57     SAP-2676\n",
      "6364  TEPU-001  NOMBREDEPEDIDO57     SAP-2676\n",
      "\n",
      "[5308 rows x 3 columns]\n",
      "productos con merma en sellado:\n",
      "     CLAVE SAP   NOMBRE DE PEDIDO N° DE PEDIDO\n",
      "34         NaN    NOMBREDEPEDIDO7     SAP-1612\n",
      "35         NaN    NOMBREDEPEDIDO7     SAP-1612\n",
      "36         NaN    NOMBREDEPEDIDO7     SAP-1612\n",
      "48         NaN    NOMBREDEPEDIDO7     SAP-1612\n",
      "71         NaN   NOMBREDEPEDIDO17     SAP-1647\n",
      "...        ...                ...          ...\n",
      "6327  MRHI-002  NOMBREDEPEDIDO239     SAP-2665\n",
      "6328  MRHI-002  NOMBREDEPEDIDO239     SAP-2665\n",
      "6332  MRHI-002  NOMBREDEPEDIDO239     SAP-2665\n",
      "6333  MRHI-002  NOMBREDEPEDIDO239     SAP-2665\n",
      "6334  MRHI-002  NOMBREDEPEDIDO239     SAP-2665\n",
      "\n",
      "[2341 rows x 3 columns]\n",
      "     CLAVE SAP  NOMBRE DE PEDIDO N° DE PEDIDO\n",
      "94         NaN  NOMBREDEPEDIDO17     SAP-1647\n",
      "95         NaN  NOMBREDEPEDIDO17     SAP-1647\n",
      "96         NaN  NOMBREDEPEDIDO17     SAP-1647\n",
      "97         NaN  NOMBREDEPEDIDO11     SAP-1650\n",
      "168        NaN  NOMBREDEPEDIDO17     SAP-1647\n",
      "...        ...               ...          ...\n",
      "6363  TEPU-001  NOMBREDEPEDIDO57     SAP-2676\n",
      "6364  TEPU-001  NOMBREDEPEDIDO57     SAP-2676\n",
      "6369  QHAC-005  NOMBREDEPEDIDO49   SAP-2675-A\n",
      "6370  QHAC-005  NOMBREDEPEDIDO49   SAP-2675-A\n",
      "6371  QHAC-005  NOMBREDEPEDIDO49   SAP-2675-A\n",
      "\n",
      "[1476 rows x 3 columns]\n"
     ]
    },
    {
     "name": "stderr",
     "output_type": "stream",
     "text": [
      "/home/sgm/miniconda3/envs/dci/lib/python3.7/site-packages/ipykernel_launcher.py:9: UserWarning: Boolean Series key will be reindexed to match DataFrame index.\n",
      "  if __name__ == '__main__':\n"
     ]
    }
   ],
   "source": [
    "print(\"productos con merma en extrusión:\")\n",
    "print(df_ex[df_ex['N° DE PEDIDO'].isin(mer_ex)][['CLAVE SAP', 'NOMBRE DE PEDIDO', 'N° DE PEDIDO']])\n",
    "\n",
    "print(\"productos con merma en impresion:\")\n",
    "print(df_im[df_im['N° DE PEDIDO'].isin(mer_im)][['CLAVE SAP', 'NOMBRE DE PEDIDO', 'N° DE PEDIDO']])\n",
    "\n",
    "print(\"productos con merma en sellado:\")\n",
    "print(df_im[df_im['N° DE PEDIDO'].isin(pedidos_merma)][['CLAVE SAP', 'NOMBRE DE PEDIDO', 'N° DE PEDIDO']])\n",
    "print(df_im[df_ex['N° DE PEDIDO'].isin(pedidos_merma)][['CLAVE SAP', 'NOMBRE DE PEDIDO', 'N° DE PEDIDO']])"
   ]
  },
  {
   "cell_type": "markdown",
   "metadata": {},
   "source": [
    "### Pregunta 4\n",
    "\n",
    "**De los codigos que registran merma positiva en la base de SELLADO, cuantos y cuales se pueden encontrar en la base de IMPRESION.**"
   ]
  },
  {
   "cell_type": "code",
   "execution_count": 75,
   "metadata": {},
   "outputs": [
    {
     "name": "stdout",
     "output_type": "stream",
     "text": [
      "número de productos con merma en impresión:  18\n",
      "productos con merma en impresion:\n",
      "['TIPODEPRODUCTO1' 'TIPODEPRODUCTO2' 'TIPODEPRODUCTO4' 'TIPODEPRODUCTO5'\n",
      " 'TIPODEPRODUCTO6' 'TIPODEPRODUCTO7' 'TIPODEPRODUCTO8' 'TIPODEPRODUCTO9'\n",
      " 'TIPODEPRODUCTO11' 'TIPODEPRODUCTO10' 'TIPODEPRODUCTO13'\n",
      " 'TIPODEPRODUCTO14' 'TIPODEPRODUCTO16' 'TIPODEPRODUCTO17'\n",
      " 'TIPODEPRODUCTO20' 'TIPODEPRODUCTO21' 'TIPODEPRODUCTO23'\n",
      " 'TIPODEPRODUCTO18']\n"
     ]
    }
   ],
   "source": [
    "print('número de productos con merma en impresión: ', len(df_im[df_im['N° DE PEDIDO'].isin(mer_im)]['TIPO DE PRODUCTO'].unique()))\n",
    "print(\"productos con merma en impresion:\")\n",
    "print(df_im[df_im['N° DE PEDIDO'].isin(mer_im)]['TIPO DE PRODUCTO'].unique())"
   ]
  },
  {
   "cell_type": "markdown",
   "metadata": {},
   "source": [
    "### Pregunta 5\n",
    "\n",
    "**Que significado tiene que estos codigos coinciden entre las dos bases?**"
   ]
  },
  {
   "cell_type": "markdown",
   "metadata": {},
   "source": [
    "Significa que el pedido ha pasado ya por el proceso de impresión y sellado, esto se puede identificar con el número de pedido."
   ]
  },
  {
   "cell_type": "markdown",
   "metadata": {},
   "source": [
    "### Pregunta 6\n",
    "\n",
    "**De los codigos que registran merma positiva en la base de SELLADO, cuantos y cuales se pueden encontrar en la base de EXTRUSION**"
   ]
  },
  {
   "cell_type": "code",
   "execution_count": 76,
   "metadata": {},
   "outputs": [
    {
     "name": "stdout",
     "output_type": "stream",
     "text": [
      "número de productos con merma en impresión:  16\n",
      "productos con merma en impresion:\n",
      "['TIPODEPRODUCTO1' 'TIPODEPRODUCTO5' 'TIPODEPRODUCTO2' 'TIPODEPRODUCTO6'\n",
      " 'TIPODEPRODUCTO4' 'TIPODEPRODUCTO3' 'TIPODEPRODUCTO7' 'TIPODEPRODUCTO10'\n",
      " 'TIPODEPRODUCTO11' 'TIPODEPRODUCTO12' 'TIPODEPRODUCTO17'\n",
      " 'TIPODEPRODUCTO18' 'TIPODEPRODUCTO19' 'TIPODEPRODUCTO8'\n",
      " 'TIPODEPRODUCTO22' 'TIPODEPRODUCTO23']\n"
     ]
    },
    {
     "name": "stderr",
     "output_type": "stream",
     "text": [
      "/home/sgm/miniconda3/envs/dci/lib/python3.7/site-packages/ipykernel_launcher.py:1: UserWarning: Boolean Series key will be reindexed to match DataFrame index.\n",
      "  \"\"\"Entry point for launching an IPython kernel.\n",
      "/home/sgm/miniconda3/envs/dci/lib/python3.7/site-packages/ipykernel_launcher.py:3: UserWarning: Boolean Series key will be reindexed to match DataFrame index.\n",
      "  This is separate from the ipykernel package so we can avoid doing imports until\n"
     ]
    }
   ],
   "source": [
    "print('número de productos con merma en impresión: ', len(df_im[df_ex['N° DE PEDIDO'].isin(mer_ex)]['TIPO DE PRODUCTO'].unique()))\n",
    "print(\"productos con merma en impresion:\")\n",
    "print(df_im[df_ex['N° DE PEDIDO'].isin(mer_ex)]['TIPO DE PRODUCTO'].unique())"
   ]
  },
  {
   "cell_type": "markdown",
   "metadata": {},
   "source": [
    "### Pregunta 7\n",
    "\n",
    "**Estos codigos, internos de la empresa, identifican el producto que se manufactura. Que significado tiene que estos codigos coinciden entre las bases?**"
   ]
  },
  {
   "cell_type": "markdown",
   "metadata": {},
   "source": [
    "Son pedidos que ya están terminados, es decir, pasaron ya por los 3 procesos."
   ]
  },
  {
   "cell_type": "code",
   "execution_count": null,
   "metadata": {},
   "outputs": [],
   "source": []
  }
 ],
 "metadata": {
  "kernelspec": {
   "display_name": "Python 3",
   "language": "python",
   "name": "python3"
  },
  "language_info": {
   "codemirror_mode": {
    "name": "ipython",
    "version": 3
   },
   "file_extension": ".py",
   "mimetype": "text/x-python",
   "name": "python",
   "nbconvert_exporter": "python",
   "pygments_lexer": "ipython3",
   "version": "3.7.4"
  }
 },
 "nbformat": 4,
 "nbformat_minor": 2
}
