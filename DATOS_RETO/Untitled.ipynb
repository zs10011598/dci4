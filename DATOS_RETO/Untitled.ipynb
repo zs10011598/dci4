{
 "cells": [
  {
   "cell_type": "code",
   "execution_count": 41,
   "metadata": {},
   "outputs": [],
   "source": [
    "import pandas as pd\n",
    "import matplotlib.pyplot as plt\n",
    "\n",
    "plt.style.use('ggplot')"
   ]
  },
  {
   "cell_type": "code",
   "execution_count": 64,
   "metadata": {},
   "outputs": [
    {
     "data": {
      "text/html": [
       "<div>\n",
       "<style scoped>\n",
       "    .dataframe tbody tr th:only-of-type {\n",
       "        vertical-align: middle;\n",
       "    }\n",
       "\n",
       "    .dataframe tbody tr th {\n",
       "        vertical-align: top;\n",
       "    }\n",
       "\n",
       "    .dataframe thead th {\n",
       "        text-align: right;\n",
       "    }\n",
       "</style>\n",
       "<table border=\"1\" class=\"dataframe\">\n",
       "  <thead>\n",
       "    <tr style=\"text-align: right;\">\n",
       "      <th></th>\n",
       "      <th>Unnamed: 0</th>\n",
       "      <th>FECHA</th>\n",
       "      <th>SEMANA</th>\n",
       "      <th>TURNO</th>\n",
       "      <th>HORA DE INICIO</th>\n",
       "      <th>RESPONSABLE</th>\n",
       "      <th>OPERADORES</th>\n",
       "      <th>NUMERO DE PEDIDO</th>\n",
       "      <th>SELL.</th>\n",
       "      <th>NOMBRE DEL PEDIDO</th>\n",
       "      <th>...</th>\n",
       "      <th>BOLSA DE 2A</th>\n",
       "      <th>ORIGEN</th>\n",
       "      <th>CUARENTENA</th>\n",
       "      <th>BASURA</th>\n",
       "      <th>MUESTRAS</th>\n",
       "      <th>HORA FINAL</th>\n",
       "      <th>HORAS DE TRABAJO</th>\n",
       "      <th>year</th>\n",
       "      <th>month</th>\n",
       "      <th>day</th>\n",
       "    </tr>\n",
       "  </thead>\n",
       "  <tbody>\n",
       "    <tr>\n",
       "      <td>0</td>\n",
       "      <td>0</td>\n",
       "      <td>2019-01-02</td>\n",
       "      <td>1</td>\n",
       "      <td>2.0</td>\n",
       "      <td>5:00:00 p. m.</td>\n",
       "      <td>RESPONSABLE1</td>\n",
       "      <td>OPERADORES1</td>\n",
       "      <td>SAP-1615</td>\n",
       "      <td>SEL003</td>\n",
       "      <td>BELLE-001</td>\n",
       "      <td>...</td>\n",
       "      <td>0.54</td>\n",
       "      <td>NaN</td>\n",
       "      <td>NaN</td>\n",
       "      <td>0.12</td>\n",
       "      <td>0.05</td>\n",
       "      <td>21:40:00</td>\n",
       "      <td>4.70</td>\n",
       "      <td>2019</td>\n",
       "      <td>1</td>\n",
       "      <td>2</td>\n",
       "    </tr>\n",
       "    <tr>\n",
       "      <td>1</td>\n",
       "      <td>1</td>\n",
       "      <td>2019-01-02</td>\n",
       "      <td>1</td>\n",
       "      <td>2.0</td>\n",
       "      <td>5:00:00 p. m.</td>\n",
       "      <td>RESPONSABLE1</td>\n",
       "      <td>OPERADORES2</td>\n",
       "      <td>SAP-1604</td>\n",
       "      <td>SEL011</td>\n",
       "      <td>SAPI-001</td>\n",
       "      <td>...</td>\n",
       "      <td>0.00</td>\n",
       "      <td>NaN</td>\n",
       "      <td>NaN</td>\n",
       "      <td>0.30</td>\n",
       "      <td>0.1</td>\n",
       "      <td>21:45:00</td>\n",
       "      <td>4.75</td>\n",
       "      <td>2019</td>\n",
       "      <td>1</td>\n",
       "      <td>2</td>\n",
       "    </tr>\n",
       "    <tr>\n",
       "      <td>2</td>\n",
       "      <td>2</td>\n",
       "      <td>2019-01-02</td>\n",
       "      <td>1</td>\n",
       "      <td>3.0</td>\n",
       "      <td>10:00:00 p. m.</td>\n",
       "      <td>RESPONSABLE2</td>\n",
       "      <td>OPERADORES3</td>\n",
       "      <td>SAP-1615</td>\n",
       "      <td>SEL003</td>\n",
       "      <td>BELLE-001</td>\n",
       "      <td>...</td>\n",
       "      <td>1.10</td>\n",
       "      <td>IMP. Y SELL</td>\n",
       "      <td>NaN</td>\n",
       "      <td>0.00</td>\n",
       "      <td>0.06</td>\n",
       "      <td>5:00:00</td>\n",
       "      <td>7.00</td>\n",
       "      <td>2019</td>\n",
       "      <td>1</td>\n",
       "      <td>2</td>\n",
       "    </tr>\n",
       "    <tr>\n",
       "      <td>3</td>\n",
       "      <td>3</td>\n",
       "      <td>2019-01-02</td>\n",
       "      <td>1</td>\n",
       "      <td>3.0</td>\n",
       "      <td>10:00:00 p. m.</td>\n",
       "      <td>RESPONSABLE2</td>\n",
       "      <td>OPERADORES4</td>\n",
       "      <td>SAP-1604</td>\n",
       "      <td>SEL011</td>\n",
       "      <td>SAPI-001</td>\n",
       "      <td>...</td>\n",
       "      <td>0.00</td>\n",
       "      <td>NaN</td>\n",
       "      <td>NaN</td>\n",
       "      <td>0.10</td>\n",
       "      <td>0.14</td>\n",
       "      <td>3:00:00</td>\n",
       "      <td>5.00</td>\n",
       "      <td>2019</td>\n",
       "      <td>1</td>\n",
       "      <td>2</td>\n",
       "    </tr>\n",
       "    <tr>\n",
       "      <td>4</td>\n",
       "      <td>4</td>\n",
       "      <td>2019-01-03</td>\n",
       "      <td>1</td>\n",
       "      <td>1.0</td>\n",
       "      <td>7:00:00 a. m.</td>\n",
       "      <td>RESPONSABLE3</td>\n",
       "      <td>OPERADORES5</td>\n",
       "      <td>SAP-1606</td>\n",
       "      <td>SEL011</td>\n",
       "      <td>YELI-002</td>\n",
       "      <td>...</td>\n",
       "      <td>0.00</td>\n",
       "      <td>NaN</td>\n",
       "      <td>NaN</td>\n",
       "      <td>0.00</td>\n",
       "      <td>0.13</td>\n",
       "      <td>9:00:00</td>\n",
       "      <td>2.00</td>\n",
       "      <td>2019</td>\n",
       "      <td>1</td>\n",
       "      <td>3</td>\n",
       "    </tr>\n",
       "  </tbody>\n",
       "</table>\n",
       "<p>5 rows × 41 columns</p>\n",
       "</div>"
      ],
      "text/plain": [
       "   Unnamed: 0      FECHA  SEMANA  TURNO  HORA DE INICIO   RESPONSABLE  \\\n",
       "0           0 2019-01-02       1    2.0   5:00:00 p. m.  RESPONSABLE1   \n",
       "1           1 2019-01-02       1    2.0   5:00:00 p. m.  RESPONSABLE1   \n",
       "2           2 2019-01-02       1    3.0  10:00:00 p. m.  RESPONSABLE2   \n",
       "3           3 2019-01-02       1    3.0  10:00:00 p. m.  RESPONSABLE2   \n",
       "4           4 2019-01-03       1    1.0   7:00:00 a. m.  RESPONSABLE3   \n",
       "\n",
       "    OPERADORES NUMERO DE PEDIDO   SELL. NOMBRE DEL PEDIDO  ... BOLSA DE 2A  \\\n",
       "0  OPERADORES1         SAP-1615  SEL003         BELLE-001  ...        0.54   \n",
       "1  OPERADORES2         SAP-1604  SEL011          SAPI-001  ...        0.00   \n",
       "2  OPERADORES3         SAP-1615  SEL003         BELLE-001  ...        1.10   \n",
       "3  OPERADORES4         SAP-1604  SEL011          SAPI-001  ...        0.00   \n",
       "4  OPERADORES5         SAP-1606  SEL011          YELI-002  ...        0.00   \n",
       "\n",
       "        ORIGEN  CUARENTENA  BASURA  MUESTRAS  HORA FINAL  HORAS DE TRABAJO  \\\n",
       "0          NaN         NaN    0.12      0.05    21:40:00              4.70   \n",
       "1          NaN         NaN    0.30       0.1    21:45:00              4.75   \n",
       "2  IMP. Y SELL         NaN    0.00      0.06     5:00:00              7.00   \n",
       "3          NaN         NaN    0.10      0.14     3:00:00              5.00   \n",
       "4          NaN         NaN    0.00      0.13     9:00:00              2.00   \n",
       "\n",
       "   year  month day  \n",
       "0  2019      1   2  \n",
       "1  2019      1   2  \n",
       "2  2019      1   2  \n",
       "3  2019      1   2  \n",
       "4  2019      1   3  \n",
       "\n",
       "[5 rows x 41 columns]"
      ]
     },
     "execution_count": 64,
     "metadata": {},
     "output_type": "execute_result"
    }
   ],
   "source": [
    "#df_ex = pd.read_csv('./datos_limpios/cln_extrusion.csv', parse_dates=['fecha_chida'])\n",
    "df_ex = pd.read_csv('./datos_limpios/cln_sellado.csv', parse_dates=['FECHA'])\n",
    "df_ex.head()"
   ]
  },
  {
   "cell_type": "markdown",
   "metadata": {},
   "source": [
    "## Pregunta 1"
   ]
  },
  {
   "cell_type": "code",
   "execution_count": 65,
   "metadata": {},
   "outputs": [
    {
     "data": {
      "text/plain": [
       "array(['Miercoles', 'Jueves', 'Viernes', 'Sabado', 'Lunes', 'Martes',\n",
       "       'Domingo'], dtype=object)"
      ]
     },
     "execution_count": 65,
     "metadata": {},
     "output_type": "execute_result"
    }
   ],
   "source": [
    "#df_ex['weekday'] = df_ex['fecha_chida'].dt.weekday.apply(lambda x: ['Lunes', 'Martes', 'Miercoles', 'Jueves', 'Viernes', 'Sabado', 'Domingo'][x])\n",
    "df_ex['weekday'] = df_ex['FECHA'].dt.weekday.apply(lambda x: ['Lunes', 'Martes', 'Miercoles', 'Jueves', 'Viernes', 'Sabado', 'Domingo'][x])\n",
    "df_ex['weekday'].unique()"
   ]
  },
  {
   "cell_type": "code",
   "execution_count": 66,
   "metadata": {},
   "outputs": [
    {
     "data": {
      "text/html": [
       "<div>\n",
       "<style scoped>\n",
       "    .dataframe tbody tr th:only-of-type {\n",
       "        vertical-align: middle;\n",
       "    }\n",
       "\n",
       "    .dataframe tbody tr th {\n",
       "        vertical-align: top;\n",
       "    }\n",
       "\n",
       "    .dataframe thead th {\n",
       "        text-align: right;\n",
       "    }\n",
       "</style>\n",
       "<table border=\"1\" class=\"dataframe\">\n",
       "  <thead>\n",
       "    <tr style=\"text-align: right;\">\n",
       "      <th></th>\n",
       "      <th>Unnamed: 0</th>\n",
       "      <th>FECHA</th>\n",
       "      <th>SEMANA</th>\n",
       "      <th>TURNO</th>\n",
       "      <th>HORA DE INICIO</th>\n",
       "      <th>RESPONSABLE</th>\n",
       "      <th>OPERADORES</th>\n",
       "      <th>NUMERO DE PEDIDO</th>\n",
       "      <th>SELL.</th>\n",
       "      <th>NOMBRE DEL PEDIDO</th>\n",
       "      <th>...</th>\n",
       "      <th>ORIGEN</th>\n",
       "      <th>CUARENTENA</th>\n",
       "      <th>BASURA</th>\n",
       "      <th>MUESTRAS</th>\n",
       "      <th>HORA FINAL</th>\n",
       "      <th>HORAS DE TRABAJO</th>\n",
       "      <th>year</th>\n",
       "      <th>month</th>\n",
       "      <th>day</th>\n",
       "      <th>weekday</th>\n",
       "    </tr>\n",
       "  </thead>\n",
       "  <tbody>\n",
       "    <tr>\n",
       "      <td>945</td>\n",
       "      <td>945</td>\n",
       "      <td>2019-03-26</td>\n",
       "      <td>13</td>\n",
       "      <td>NaN</td>\n",
       "      <td>NaN</td>\n",
       "      <td>RESPONSABLE4</td>\n",
       "      <td>OPERADORES25</td>\n",
       "      <td>NaN</td>\n",
       "      <td>NaN</td>\n",
       "      <td>NaN</td>\n",
       "      <td>...</td>\n",
       "      <td>NaN</td>\n",
       "      <td>NaN</td>\n",
       "      <td>NaN</td>\n",
       "      <td>NaN</td>\n",
       "      <td>NaN</td>\n",
       "      <td>0.0</td>\n",
       "      <td>2019</td>\n",
       "      <td>3</td>\n",
       "      <td>26</td>\n",
       "      <td>Martes</td>\n",
       "    </tr>\n",
       "  </tbody>\n",
       "</table>\n",
       "<p>1 rows × 42 columns</p>\n",
       "</div>"
      ],
      "text/plain": [
       "     Unnamed: 0      FECHA  SEMANA  TURNO HORA DE INICIO   RESPONSABLE  \\\n",
       "945         945 2019-03-26      13    NaN            NaN  RESPONSABLE4   \n",
       "\n",
       "       OPERADORES NUMERO DE PEDIDO SELL. NOMBRE DEL PEDIDO  ... ORIGEN  \\\n",
       "945  OPERADORES25              NaN   NaN               NaN  ...    NaN   \n",
       "\n",
       "    CUARENTENA  BASURA  MUESTRAS  HORA FINAL  HORAS DE TRABAJO  year  month  \\\n",
       "945        NaN     NaN       NaN         NaN               0.0  2019      3   \n",
       "\n",
       "     day weekday  \n",
       "945   26  Martes  \n",
       "\n",
       "[1 rows x 42 columns]"
      ]
     },
     "execution_count": 66,
     "metadata": {},
     "output_type": "execute_result"
    }
   ],
   "source": [
    "df_ex[df_ex['TURNO'].isnull()]"
   ]
  },
  {
   "cell_type": "code",
   "execution_count": 67,
   "metadata": {},
   "outputs": [
    {
     "data": {
      "text/html": [
       "<div>\n",
       "<style scoped>\n",
       "    .dataframe tbody tr th:only-of-type {\n",
       "        vertical-align: middle;\n",
       "    }\n",
       "\n",
       "    .dataframe tbody tr th {\n",
       "        vertical-align: top;\n",
       "    }\n",
       "\n",
       "    .dataframe thead th {\n",
       "        text-align: right;\n",
       "    }\n",
       "</style>\n",
       "<table border=\"1\" class=\"dataframe\">\n",
       "  <thead>\n",
       "    <tr style=\"text-align: right;\">\n",
       "      <th></th>\n",
       "      <th>Unnamed: 0</th>\n",
       "      <th>FECHA</th>\n",
       "      <th>SEMANA</th>\n",
       "      <th>TURNO</th>\n",
       "      <th>HORA DE INICIO</th>\n",
       "      <th>RESPONSABLE</th>\n",
       "      <th>OPERADORES</th>\n",
       "      <th>NUMERO DE PEDIDO</th>\n",
       "      <th>SELL.</th>\n",
       "      <th>NOMBRE DEL PEDIDO</th>\n",
       "      <th>...</th>\n",
       "      <th>ORIGEN</th>\n",
       "      <th>CUARENTENA</th>\n",
       "      <th>BASURA</th>\n",
       "      <th>MUESTRAS</th>\n",
       "      <th>HORA FINAL</th>\n",
       "      <th>HORAS DE TRABAJO</th>\n",
       "      <th>year</th>\n",
       "      <th>month</th>\n",
       "      <th>day</th>\n",
       "      <th>weekday</th>\n",
       "    </tr>\n",
       "  </thead>\n",
       "  <tbody>\n",
       "  </tbody>\n",
       "</table>\n",
       "<p>0 rows × 42 columns</p>\n",
       "</div>"
      ],
      "text/plain": [
       "Empty DataFrame\n",
       "Columns: [Unnamed: 0, FECHA, SEMANA, TURNO, HORA DE INICIO, RESPONSABLE, OPERADORES, NUMERO DE PEDIDO, SELL., NOMBRE DEL PEDIDO, TIPO DE BOLSA, MEDIDA, CALIBRE, GPM (Golpes por minuto), TEMPERATURA DE SELLADO (INFERIOR), TEMPERATURA DE SELLADO (SUPERIOR), PESO/BULTO, KG/DE BOBINA, N° DE BULTOS, PROMEDIO, MILLARES, SERIALIZADO INICIO, SERIALIZADO FIN, PESO DE TROQUEL, MERMA EXTRUSION, CAUSAS EXTRUSION, MER IMPRESIÓN, CAUSAS IMPRESIÓN, IMPRESIÓN  MERMA POR PROCESO, MERMA SELLADO, CAUSAS SELLADO, BOLSA DE 2A, ORIGEN, CUARENTENA, BASURA, MUESTRAS, HORA FINAL, HORAS DE TRABAJO, year, month, day, weekday]\n",
       "Index: []\n",
       "\n",
       "[0 rows x 42 columns]"
      ]
     },
     "execution_count": 67,
     "metadata": {},
     "output_type": "execute_result"
    }
   ],
   "source": [
    "df_ex['TURNO'] = df_ex['TURNO'].interpolate(method='pad')\n",
    "df_ex[df_ex['TURNO'].isnull()]"
   ]
  },
  {
   "cell_type": "code",
   "execution_count": 69,
   "metadata": {},
   "outputs": [
    {
     "data": {
      "text/html": [
       "<div>\n",
       "<style scoped>\n",
       "    .dataframe tbody tr th:only-of-type {\n",
       "        vertical-align: middle;\n",
       "    }\n",
       "\n",
       "    .dataframe tbody tr th {\n",
       "        vertical-align: top;\n",
       "    }\n",
       "\n",
       "    .dataframe thead th {\n",
       "        text-align: right;\n",
       "    }\n",
       "</style>\n",
       "<table border=\"1\" class=\"dataframe\">\n",
       "  <thead>\n",
       "    <tr style=\"text-align: right;\">\n",
       "      <th></th>\n",
       "      <th></th>\n",
       "      <th>freq</th>\n",
       "    </tr>\n",
       "    <tr>\n",
       "      <th>weekday</th>\n",
       "      <th>TURNO</th>\n",
       "      <th></th>\n",
       "    </tr>\n",
       "  </thead>\n",
       "  <tbody>\n",
       "    <tr>\n",
       "      <td>Domingo</td>\n",
       "      <td>1.0</td>\n",
       "      <td>5</td>\n",
       "    </tr>\n",
       "    <tr>\n",
       "      <td rowspan=\"3\" valign=\"top\">Jueves</td>\n",
       "      <td>1.0</td>\n",
       "      <td>238</td>\n",
       "    </tr>\n",
       "    <tr>\n",
       "      <td>2.0</td>\n",
       "      <td>238</td>\n",
       "    </tr>\n",
       "    <tr>\n",
       "      <td>3.0</td>\n",
       "      <td>195</td>\n",
       "    </tr>\n",
       "    <tr>\n",
       "      <td rowspan=\"3\" valign=\"top\">Lunes</td>\n",
       "      <td>1.0</td>\n",
       "      <td>194</td>\n",
       "    </tr>\n",
       "    <tr>\n",
       "      <td>2.0</td>\n",
       "      <td>197</td>\n",
       "    </tr>\n",
       "    <tr>\n",
       "      <td>3.0</td>\n",
       "      <td>186</td>\n",
       "    </tr>\n",
       "    <tr>\n",
       "      <td rowspan=\"3\" valign=\"top\">Martes</td>\n",
       "      <td>1.0</td>\n",
       "      <td>234</td>\n",
       "    </tr>\n",
       "    <tr>\n",
       "      <td>2.0</td>\n",
       "      <td>225</td>\n",
       "    </tr>\n",
       "    <tr>\n",
       "      <td>3.0</td>\n",
       "      <td>216</td>\n",
       "    </tr>\n",
       "    <tr>\n",
       "      <td rowspan=\"3\" valign=\"top\">Miercoles</td>\n",
       "      <td>1.0</td>\n",
       "      <td>230</td>\n",
       "    </tr>\n",
       "    <tr>\n",
       "      <td>2.0</td>\n",
       "      <td>210</td>\n",
       "    </tr>\n",
       "    <tr>\n",
       "      <td>3.0</td>\n",
       "      <td>202</td>\n",
       "    </tr>\n",
       "    <tr>\n",
       "      <td rowspan=\"3\" valign=\"top\">Sabado</td>\n",
       "      <td>1.0</td>\n",
       "      <td>193</td>\n",
       "    </tr>\n",
       "    <tr>\n",
       "      <td>2.0</td>\n",
       "      <td>185</td>\n",
       "    </tr>\n",
       "    <tr>\n",
       "      <td>3.0</td>\n",
       "      <td>173</td>\n",
       "    </tr>\n",
       "    <tr>\n",
       "      <td rowspan=\"3\" valign=\"top\">Viernes</td>\n",
       "      <td>1.0</td>\n",
       "      <td>233</td>\n",
       "    </tr>\n",
       "    <tr>\n",
       "      <td>2.0</td>\n",
       "      <td>203</td>\n",
       "    </tr>\n",
       "    <tr>\n",
       "      <td>3.0</td>\n",
       "      <td>211</td>\n",
       "    </tr>\n",
       "  </tbody>\n",
       "</table>\n",
       "</div>"
      ],
      "text/plain": [
       "                 freq\n",
       "weekday   TURNO      \n",
       "Domingo   1.0       5\n",
       "Jueves    1.0     238\n",
       "          2.0     238\n",
       "          3.0     195\n",
       "Lunes     1.0     194\n",
       "          2.0     197\n",
       "          3.0     186\n",
       "Martes    1.0     234\n",
       "          2.0     225\n",
       "          3.0     216\n",
       "Miercoles 1.0     230\n",
       "          2.0     210\n",
       "          3.0     202\n",
       "Sabado    1.0     193\n",
       "          2.0     185\n",
       "          3.0     173\n",
       "Viernes   1.0     233\n",
       "          2.0     203\n",
       "          3.0     211"
      ]
     },
     "execution_count": 69,
     "metadata": {},
     "output_type": "execute_result"
    }
   ],
   "source": [
    "#df_ex_grouped = df_ex[['weekday', 'TURNO', 'fecha_chida']].groupby(['weekday', 'TURNO']).count()\n",
    "df_ex_grouped = df_ex[['weekday', 'TURNO', 'FECHA']].groupby(['weekday', 'TURNO']).count()\n",
    "\n",
    "df_ex_grouped = df_ex_grouped.rename({'FECHA':'freq'}, axis=1)\n",
    "\n",
    "df_ex_grouped"
   ]
  },
  {
   "cell_type": "code",
   "execution_count": 70,
   "metadata": {},
   "outputs": [
    {
     "data": {
      "text/plain": [
       "<matplotlib.axes._subplots.AxesSubplot at 0x7f10048a3128>"
      ]
     },
     "execution_count": 70,
     "metadata": {},
     "output_type": "execute_result"
    },
    {
     "data": {
      "image/png": "[encoded data removed]",
      "text/plain": [
       "<Figure size 720x720 with 1 Axes>"
      ]
     },
     "metadata": {},
     "output_type": "display_data"
    }
   ],
   "source": [
    "df_ex_grouped.unstack().plot(kind='barh', figsize=(10,10))"
   ]
  },
  {
   "cell_type": "markdown",
   "metadata": {},
   "source": [
    "## Pregunta 2"
   ]
  },
  {
   "cell_type": "code",
   "execution_count": 71,
   "metadata": {},
   "outputs": [
    {
     "data": {
      "text/plain": [
       "<matplotlib.axes._subplots.AxesSubplot at 0x7f1004834278>"
      ]
     },
     "execution_count": 71,
     "metadata": {},
     "output_type": "execute_result"
    },
    {
     "data": {
      "image/png": "[encoded data removed]",
      "text/plain": [
       "<Figure size 720x720 with 1 Axes>"
      ]
     },
     "metadata": {},
     "output_type": "display_data"
    }
   ],
   "source": [
    "#df_ex_grouped = df_ex[['month', 'TURNO', 'fecha_chida']].groupby(['month', 'TURNO']).count()\n",
    "df_ex_grouped = df_ex[['month', 'TURNO', 'FECHA']].groupby(['month', 'TURNO']).count()\n",
    "\n",
    "df_ex_grouped = df_ex_grouped.rename({'FECHA':'freq'}, axis=1)\n",
    "\n",
    "df_ex_grouped.unstack().plot(kind='barh', figsize=(10,10))"
   ]
  },
  {
   "cell_type": "code",
   "execution_count": null,
   "metadata": {},
   "outputs": [],
   "source": []
  },
  {
   "cell_type": "code",
   "execution_count": 76,
   "metadata": {},
   "outputs": [],
   "source": [
    "df_ex = pd.read_csv('./datos_limpios/cln_extrusion.csv', parse_dates=['fecha_chida'])\n",
    "df_ex['weekday'] = df_ex['fecha_chida'].dt.weekday.apply(lambda x: ['Lunes', 'Martes', 'Miercoles', 'Jueves', 'Viernes', 'Sabado', 'Domingo'][x])\n",
    "\n",
    "df_all = df_ex[['weekday', 'TURNO', 'fecha_chida']]\n",
    "df_all = df_all.rename({'fecha_chida':'freq'}, axis=1)\n",
    "\n",
    "df_ex = pd.read_csv('./datos_limpios/cln_impresion.csv', parse_dates=['FECHA'])\n",
    "df_ex['weekday'] = df_ex['FECHA'].dt.weekday.apply(lambda x: ['Lunes', 'Martes', 'Miercoles', 'Jueves', 'Viernes', 'Sabado', 'Domingo'][x])\n",
    "\n",
    "df_ex = df_ex[['weekday', 'TURNO', 'FECHA']]\n",
    "df_ex = df_ex.rename({'FECHA':'freq'}, axis=1)\n",
    "\n",
    "df_all = pd.concat([df_all, df_ex])\n",
    "\n",
    "df_ex = pd.read_csv('./datos_limpios/cln_sellado.csv', parse_dates=['FECHA'])\n",
    "df_ex['weekday'] = df_ex['FECHA'].dt.weekday.apply(lambda x: ['Lunes', 'Martes', 'Miercoles', 'Jueves', 'Viernes', 'Sabado', 'Domingo'][x])\n",
    "\n",
    "df_ex = df_ex[['weekday', 'TURNO', 'FECHA']]\n",
    "df_ex = df_ex.rename({'FECHA':'freq'}, axis=1)\n",
    "\n",
    "df_all = pd.concat([df_all, df_ex])\n",
    "\n",
    "df_all = df_all.groupby(['weekday', 'TURNO']).count()"
   ]
  },
  {
   "cell_type": "code",
   "execution_count": 77,
   "metadata": {},
   "outputs": [
    {
     "data": {
      "text/plain": [
       "<matplotlib.axes._subplots.AxesSubplot at 0x7f10044efdd8>"
      ]
     },
     "execution_count": 77,
     "metadata": {},
     "output_type": "execute_result"
    },
    {
     "data": {
      "image/png": "[encoded data removed]",
      "text/plain": [
       "<Figure size 720x720 with 1 Axes>"
      ]
     },
     "metadata": {},
     "output_type": "display_data"
    }
   ],
   "source": [
    "df_all.unstack().plot(kind='barh', figsize=(10,10))"
   ]
  },
  {
   "cell_type": "code",
   "execution_count": 78,
   "metadata": {},
   "outputs": [],
   "source": [
    "df_ex = pd.read_csv('./datos_limpios/cln_extrusion.csv', parse_dates=['fecha_chida'])\n",
    "\n",
    "df_all = df_ex[['month', 'TURNO', 'fecha_chida']]\n",
    "df_all = df_all.rename({'fecha_chida':'freq'}, axis=1)\n",
    "\n",
    "df_ex = pd.read_csv('./datos_limpios/cln_impresion.csv', parse_dates=['FECHA'])\n",
    "\n",
    "df_ex = df_ex[['month', 'TURNO', 'FECHA']]\n",
    "df_ex = df_ex.rename({'FECHA':'freq'}, axis=1)\n",
    "\n",
    "df_all = pd.concat([df_all, df_ex])\n",
    "\n",
    "df_ex = pd.read_csv('./datos_limpios/cln_sellado.csv', parse_dates=['FECHA'])\n",
    "\n",
    "df_ex = df_ex[['month', 'TURNO', 'FECHA']]\n",
    "df_ex = df_ex.rename({'FECHA':'freq'}, axis=1)\n",
    "\n",
    "df_all = pd.concat([df_all, df_ex])\n",
    "\n",
    "df_all = df_all.groupby(['month', 'TURNO']).count()"
   ]
  },
  {
   "cell_type": "code",
   "execution_count": 79,
   "metadata": {},
   "outputs": [
    {
     "data": {
      "text/plain": [
       "<matplotlib.axes._subplots.AxesSubplot at 0x7f10042fa898>"
      ]
     },
     "execution_count": 79,
     "metadata": {},
     "output_type": "execute_result"
    },
    {
     "data": {
      "image/png": "[encoded data removed]",
      "text/plain": [
       "<Figure size 720x720 with 1 Axes>"
      ]
     },
     "metadata": {},
     "output_type": "display_data"
    }
   ],
   "source": [
    "df_all.unstack().plot(kind='barh', figsize=(10,10))"
   ]
  },
  {
   "cell_type": "code",
   "execution_count": null,
   "metadata": {},
   "outputs": [],
   "source": []
  }
 ],
 "metadata": {
  "kernelspec": {
   "display_name": "Python 3",
   "language": "python",
   "name": "python3"
  },
  "language_info": {
   "codemirror_mode": {
    "name": "ipython",
    "version": 3
   },
   "file_extension": ".py",
   "mimetype": "text/x-python",
   "name": "python",
   "nbconvert_exporter": "python",
   "pygments_lexer": "ipython3",
   "version": "3.6.7"
  }
 },
 "nbformat": 4,
 "nbformat_minor": 2
}
